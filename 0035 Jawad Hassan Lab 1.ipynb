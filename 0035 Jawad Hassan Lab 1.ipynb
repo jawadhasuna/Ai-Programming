{
 "cells": [
  {
   "cell_type": "markdown",
   "id": "4d9e0985",
   "metadata": {
    "id": "4d9e0985"
   },
   "source": [
    "\n",
    "# Lab 01\n",
    "# Jawad Hassan\n",
    "# 2230-0035\n",
    "# 25 Sep 2025\n",
    "## Table of Contents:\n",
    "* Introduction\n",
    "* Variables and Data Types\n",
    "* Reserved Words\n",
    "* Assignment Operator\n",
    "* Type Command\n",
    "* Arithmetic Operators\n",
    "* Comparison Operators\n",
    "* Strings\n",
    "* String Functions\n",
    "* 1D Lists\n",
    "* List Functions\n",
    "* Exercises"
   ]
  },
  {
   "cell_type": "markdown",
   "id": "3e54c57e",
   "metadata": {
    "id": "3e54c57e"
   },
   "source": [
    "## Introduction\n",
    "In this lab, you'll learn about essential concepts like variables, operators, strings, and lists in Python. These fundamental concepts form the building blocks of programming and are crucial to understanding more complex topics."
   ]
  },
  {
   "cell_type": "markdown",
   "id": "ff59858c",
   "metadata": {
    "id": "ff59858c"
   },
   "source": [
    "## Variables and Data Types\n",
    "* int: Integer numbers\n",
    "* float: Floating-point numbers\n",
    "* str: Strings (text)\n",
    "* bool: Boolean values (True or False)"
   ]
  },
  {
   "cell_type": "code",
   "execution_count": 25,
   "id": "a7041f86",
   "metadata": {
    "id": "a7041f86",
    "outputId": "b340a982-b04d-4b08-a53b-1f0d0b00fb5d"
   },
   "outputs": [
    {
     "name": "stdout",
     "output_type": "stream",
     "text": [
      "this is my data 234 True 68.78\n"
     ]
    }
   ],
   "source": [
    "data=\"this is my data\"\n",
    "id_no=234\n",
    "present=True\n",
    "percentage=68.78\n",
    "\n",
    "print(data, id_no, present, percentage)"
   ]
  },
  {
   "cell_type": "markdown",
   "id": "44912c74",
   "metadata": {
    "id": "44912c74"
   },
   "source": [
    "## Reserved Words\n",
    "Reserved words are words that have special meanings in Python and cannot be used as variable names. Examples include if, else, while, for, and more."
   ]
  },
  {
   "cell_type": "markdown",
   "id": "cea61688",
   "metadata": {
    "id": "cea61688"
   },
   "source": [
    "## Assignment Operator\n",
    "The assignment operator (=) is used to assign a value to a variable."
   ]
  },
  {
   "cell_type": "markdown",
   "id": "68752892",
   "metadata": {
    "id": "68752892"
   },
   "source": [
    "## Type Command\n",
    "The type() function is used to determine the data type of a variable."
   ]
  },
  {
   "cell_type": "code",
   "execution_count": 26,
   "id": "8789cf27",
   "metadata": {
    "id": "8789cf27",
    "outputId": "8c44bc64-2a5c-46da-ba78-83f76eef9cde"
   },
   "outputs": [
    {
     "name": "stdout",
     "output_type": "stream",
     "text": [
      "<class 'str'>\n"
     ]
    }
   ],
   "source": [
    "x=type(data)\n",
    "print(x)"
   ]
  },
  {
   "cell_type": "markdown",
   "id": "a2ba6b74",
   "metadata": {
    "id": "a2ba6b74"
   },
   "source": [
    "## Arithmetic Operators\n",
    "Arithmetic operators perform mathematical operations:\n",
    "\n",
    "* +, -, *, /: Addition, subtraction, multiplication, division\n",
    "* %: Modulus (remainder)\n",
    "* **: Power\n",
    "* //: Floor division (division with the result rounded down)"
   ]
  },
  {
   "cell_type": "code",
   "execution_count": 27,
   "id": "7fe99ed9",
   "metadata": {
    "id": "7fe99ed9",
    "outputId": "7b81a272-00c4-489f-99b1-9940196bf241"
   },
   "outputs": [
    {
     "name": "stdout",
     "output_type": "stream",
     "text": [
      "134 279841 1\n"
     ]
    }
   ],
   "source": [
    "x=56\n",
    "y=78\n",
    "sum1=x+y\n",
    "exp=23 ** 4\n",
    "fd=y//x\n",
    "\n",
    "print(sum1, exp,fd)"
   ]
  },
  {
   "cell_type": "markdown",
   "id": "fda10e1d",
   "metadata": {
    "id": "fda10e1d"
   },
   "source": [
    "## Comparison Operators\n",
    "Comparison operators are used to compare values:\n",
    "\n",
    "* ==: Equal to\n",
    "* !=: Not equal to\n",
    "* <, >, <=, >=: Less than, greater than, less than or equal to, greater than or equal to"
   ]
  },
  {
   "cell_type": "markdown",
   "id": "bd430187",
   "metadata": {
    "id": "bd430187"
   },
   "source": [
    "## Strings\n",
    "Strings are sequences of characters enclosed in single (' ') or double (\" \") quotes.\n",
    "\n",
    "String Functions:\n",
    "\n",
    "* len(): Returns the length of a string.\n",
    "* replace(): Replaces a substring with another substring.\n",
    "* Indexing: Access individual characters using index values.\n",
    "* Slicing: Extract a substring using slicing notation, e.g., [start:end]."
   ]
  },
  {
   "cell_type": "code",
   "execution_count": 28,
   "id": "50920c20",
   "metadata": {
    "id": "50920c20",
    "outputId": "64973ade-3011-40e0-e6b8-161c683535ea"
   },
   "outputs": [
    {
     "name": "stdout",
     "output_type": "stream",
     "text": [
      "SoHail\n",
      "6\n",
      "Hail\n",
      "i\n"
     ]
    }
   ],
   "source": [
    "name=\"Sohail\"\n",
    "name=name.replace('h','H')\n",
    "\n",
    "print(name)\n",
    "print(len(name))\n",
    "print(name[2:])\n",
    "print(name[4])"
   ]
  },
  {
   "cell_type": "markdown",
   "id": "60429288",
   "metadata": {
    "id": "60429288"
   },
   "source": [
    "## 1D Lists\n",
    "Lists are ordered collections of items. Lists can contain elements of different types.\n",
    "\n",
    "List Functions:\n",
    "\n",
    "* range(): Generates a sequence of numbers.\n",
    "* append(): Adds an item to the end of the list.\n",
    "* insert(): Inserts an item at a specific index.\n",
    "* Indexing: Access individual items using index values.\n",
    "* Slicing: Extract a sublist using slicing notation, e.g., [start:end]."
   ]
  },
  {
   "cell_type": "code",
   "execution_count": 29,
   "id": "abf7f1f4",
   "metadata": {
    "id": "abf7f1f4",
    "outputId": "47d92efd-5344-4ca5-fc0e-f3a8cc642adf"
   },
   "outputs": [
    {
     "name": "stdout",
     "output_type": "stream",
     "text": [
      "[1, 2, 3, 4, 5]\n",
      "[23, 'data', True]\n",
      "[23, 'data', False, True]\n",
      "[23, 'data', False, True, 'minimum']\n",
      "[23, 'data', False]\n"
     ]
    }
   ],
   "source": [
    "lst=[]\n",
    "numbers = list(range(1, 6))\n",
    "print(numbers)\n",
    "lst=[23,\"data\",True]\n",
    "print(lst)\n",
    "lst.insert(2,False)\n",
    "print(lst)\n",
    "lst.append(\"minimum\")\n",
    "print(lst)\n",
    "print(lst[:3])"
   ]
  },
  {
   "cell_type": "markdown",
   "id": "9ef8b27f",
   "metadata": {
    "id": "9ef8b27f"
   },
   "source": [
    "# Exercises\n",
    "\n",
    "We are creating a database where we are going to store following items\n",
    "\n",
    "## Product Sales\n",
    "\n",
    "* product_id\n",
    "* product_name\n",
    "* unit_price (list i.e. 5000 for non members, 4000 for members, 3000 for VIPs)\n",
    "* quantity_sold\n",
    "* total_revenue\n",
    "\n",
    "Your job is to identify the data-type to be used for each of above values. Also create an example for one record using variables and values of appropriate data-types. Print Values\n"
   ]
  },
  {
   "cell_type": "code",
   "execution_count": 30,
   "id": "99b38cde",
   "metadata": {
    "colab": {
     "base_uri": "https://localhost:8080/"
    },
    "id": "99b38cde",
    "outputId": "d9f81106-0331-4fe8-8a66-c75d474cae2a"
   },
   "outputs": [
    {
     "name": "stdout",
     "output_type": "stream",
     "text": [
      "Product ID: 1\n",
      "<class 'int'>\n",
      "Product name: chips\n",
      "<class 'str'>\n",
      "Unit Price: [5000, 4000, 3000]\n",
      "<class 'list'>\n",
      "Quantity Sold: 35\n",
      "<class 'int'>\n",
      "Total Revenue: 15000\n",
      "<class 'int'>\n",
      "sales: [1, 'chips', [5000, 4000, 3000], 35, 15000]\n"
     ]
    }
   ],
   "source": [
    "product_id = 1\n",
    "product_name = 'chips'\n",
    "unit_price = [5000, 4000, 3000]\n",
    "quantity_sold = 35\n",
    "total_revenue = 15000\n",
    "\n",
    "print(f'Product ID:', product_id)\n",
    "print(type(product_id))\n",
    "\n",
    "print(f'Product name:', product_name)\n",
    "print(type(product_name))\n",
    "\n",
    "print(f'Unit Price:', unit_price)\n",
    "print(type(unit_price))\n",
    "\n",
    "print(f'Quantity Sold:',quantity_sold)\n",
    "print(type(quantity_sold))\n",
    "\n",
    "print(f'Total Revenue:',total_revenue)\n",
    "print(type(total_revenue))\n",
    "\n",
    "sales= [product_id, product_name, unit_price, quantity_sold, total_revenue]\n",
    "print(\"sales:\",sales)\n"
   ]
  },
  {
   "cell_type": "markdown",
   "id": "03c4bf75",
   "metadata": {
    "id": "03c4bf75"
   },
   "source": [
    "Do same as above for following:\n",
    "\n",
    "## Customer Orders\n",
    "\n",
    "* order_id\n",
    "* customer_name\n",
    "* order_items\n",
    "* discount (list i.e. 5% for non members, 10% for members, 15% for VIPs)\n",
    "* order_total\n",
    "* order_date\n",
    "\n",
    "## Temperature Monitoring\n",
    "\n",
    "* sensor_id\n",
    "* location\n",
    "* temperature_readings (list)\n",
    "* average_temperature\n",
    "* timestamp"
   ]
  },
  {
   "cell_type": "code",
   "execution_count": 31,
   "id": "e1cdeae1",
   "metadata": {
    "id": "e1cdeae1"
   },
   "outputs": [
    {
     "name": "stdout",
     "output_type": "stream",
     "text": [
      "Customer Orders:\n",
      "order id: 1\n",
      "<class 'int'>\n",
      "customer name: ali\n",
      "<class 'str'>\n",
      "order_items: 5\n",
      "<class 'int'>\n",
      "discount: [5, 10, 15]\n",
      "<class 'list'>\n",
      "order_total: 5000\n",
      "<class 'int'>\n",
      "order_date: 12/11/25\n",
      "<class 'str'>\n",
      "order_sales: [1, 'ali', 5, [5, 10, 15], 5000, '12/11/25']\n",
      "Temperature Monitoring:\n",
      "sensor id: 2\n",
      "<class 'int'>\n",
      "location: islamabad\n",
      "<class 'str'>\n",
      "temperature_readings: [1, 2, 3, 4, 5]\n",
      "<class 'list'>\n",
      "average_temperature: 10.4\n",
      "<class 'float'>\n",
      "timestamp: 1/2/2022\n",
      "<class 'str'>\n"
     ]
    }
   ],
   "source": [
    "# Customer Orders:\n",
    "print(\"Customer Orders:\")\n",
    "order_id=1\n",
    "customer_name='ali'\n",
    "order_items=5\n",
    "discount = [5, 10, 15]\n",
    "order_total=5000\n",
    "order_date='12/11/25'\n",
    "print(\"order id:\",order_id)\n",
    "print(type(order_id))\n",
    "print(\"customer name:\",customer_name)\n",
    "print(type(customer_name))\n",
    "print(\"order_items:\",order_items)\n",
    "print(type(order_items))\n",
    "print(\"discount:\",discount)\n",
    "print(type(discount))\n",
    "print(\"order_total:\",order_total)\n",
    "print(type(order_total))\n",
    "print(\"order_date:\",order_date)\n",
    "print(type(order_date))\n",
    "order_sales=[order_id,customer_name,order_items,discount,order_total,order_date]\n",
    "print(\"order_sales:\",order_sales)\n",
    "\n",
    "#Temperature Monitoring\n",
    "print(\"Temperature Monitoring:\")\n",
    "sensor_id=2\n",
    "location='islamabad'\n",
    "temperature_readings =list(range(1,6))\n",
    "average_temperature=10.4\n",
    "timestamp='1/2/2022'\n",
    "\n",
    "print(\"sensor id:\",sensor_id)\n",
    "print(type(sensor_id))\n",
    "print(\"location:\",location)\n",
    "print(type(location))\n",
    "print(\"temperature_readings:\",temperature_readings)\n",
    "print(type(temperature_readings))\n",
    "print(\"average_temperature:\",average_temperature)\n",
    "print(type(average_temperature))\n",
    "print(\"timestamp:\",timestamp)\n",
    "print(type(timestamp))"
   ]
  },
  {
   "cell_type": "markdown",
   "id": "57e7eb69",
   "metadata": {
    "id": "57e7eb69"
   },
   "source": [
    "Use assignment Operator to assign new values to one of the above scenerios and print again"
   ]
  },
  {
   "cell_type": "code",
   "execution_count": 32,
   "id": "a6a4170f",
   "metadata": {
    "colab": {
     "base_uri": "https://localhost:8080/"
    },
    "id": "a6a4170f",
    "outputId": "85a0d320-906f-47cd-b420-25cde0a08344"
   },
   "outputs": [
    {
     "name": "stdout",
     "output_type": "stream",
     "text": [
      "changed values:\n",
      "Product ID: 90\n",
      "<class 'int'>\n",
      "Product name: book\n",
      "<class 'str'>\n",
      "Unit Price: [7000, 2000, 9000]\n",
      "<class 'list'>\n",
      "Quantity Sold: 87\n",
      "<class 'int'>\n",
      "Total Revenue: 35000\n",
      "<class 'int'>\n"
     ]
    }
   ],
   "source": [
    "total_revenue = 35000\n",
    "product_id = 90\n",
    "product_name = 'book'\n",
    "unit_price = [7000, 2000, 9000]\n",
    "quantity_sold = 87\n",
    "print(\"changed values:\")\n",
    "print(f'Product ID:', product_id)\n",
    "print(type(product_id))\n",
    "\n",
    "print(f'Product name:', product_name)\n",
    "print(type(product_name))\n",
    "\n",
    "print(f'Unit Price:', unit_price)\n",
    "print(type(unit_price))\n",
    "\n",
    "print(f'Quantity Sold:',quantity_sold)\n",
    "print(type(quantity_sold))\n",
    "\n",
    "print(f'Total Revenue:',total_revenue)\n",
    "print(type(total_revenue))\n",
    "\n"
   ]
  },
  {
   "cell_type": "markdown",
   "id": "e2e04536",
   "metadata": {
    "id": "e2e04536"
   },
   "source": [
    "Use arithmatic operators in all of above examples where a list of numbers is used to compute average values (do not use loops)"
   ]
  },
  {
   "cell_type": "code",
   "execution_count": 33,
   "id": "163e0b11",
   "metadata": {
    "colab": {
     "base_uri": "https://localhost:8080/"
    },
    "id": "163e0b11",
    "outputId": "8a9c8f5f-998b-4ce6-c200-56a6056c0588"
   },
   "outputs": [
    {
     "name": "stdout",
     "output_type": "stream",
     "text": [
      "avg of product: 6000.0\n",
      "avg of customer discount: 10.0\n",
      "avg of temperature readings: 3.0\n"
     ]
    }
   ],
   "source": [
    "#avg = sum([5000+4000+3000])/len(unit_price)\n",
    "avg = sum(unit_price)/len(unit_price)\n",
    "print('avg of product:',avg)\n",
    "\n",
    "avgcustomerdiscount=sum(discount)/len(discount)\n",
    "print('avg of customer discount:',avgcustomerdiscount)\n",
    "\n",
    "avgtemperature_readings=sum(temperature_readings)/len(temperature_readings)\n",
    "print('avg of temperature readings:',avgtemperature_readings)"
   ]
  },
  {
   "cell_type": "markdown",
   "id": "2a06acd5",
   "metadata": {
    "id": "2a06acd5"
   },
   "source": [
    "use ** operator on lists in all above examples (if list is storing numbers)"
   ]
  },
  {
   "cell_type": "code",
   "execution_count": 40,
   "id": "0bd19a35",
   "metadata": {
    "colab": {
     "base_uri": "https://localhost:8080/"
    },
    "id": "0bd19a35",
    "outputId": "5c454dbb-6ccd-49e2-ccc1-968fba58792f"
   },
   "outputs": [
    {
     "name": "stdout",
     "output_type": "stream",
     "text": [
      "1728000000000\n",
      "power of product: 5832000000000\n",
      "power of customer discount: 27000\n",
      "power of temperature readings: 759375\n"
     ]
    }
   ],
   "source": [
    "power = sum([5000+4000+3000])**len(unit_price)\n",
    "print(power)\n",
    "\n",
    "pwrprd = sum(unit_price)**len(unit_price)\n",
    "print('power of product:',pwrprd)\n",
    "\n",
    "pwrcust=sum(discount)**len(discount)\n",
    "print('power of customer discount:',pwrcust)\n",
    "\n",
    "pwrtmp=sum(temperature_readings)**len(temperature_readings)\n",
    "print('power of temperature readings:',pwrtmp)\n"
   ]
  },
  {
   "cell_type": "markdown",
   "id": "375eeeb2",
   "metadata": {
    "id": "375eeeb2"
   },
   "source": [
    "use // operator on at least one examples from each of above scenerios"
   ]
  },
  {
   "cell_type": "code",
   "execution_count": 41,
   "id": "093797b5",
   "metadata": {
    "colab": {
     "base_uri": "https://localhost:8080/"
    },
    "id": "093797b5",
    "outputId": "5c41278a-79e9-410a-f787-34921ac0ca36"
   },
   "outputs": [
    {
     "name": "stdout",
     "output_type": "stream",
     "text": [
      "4000\n",
      "division of customer discount: 10\n"
     ]
    }
   ],
   "source": [
    "divide = sum([5000+4000+3000])//len(unit_price)\n",
    "print(divide)\n",
    "\n",
    "divcust=sum(discount)//len(discount)\n",
    "print('division of customer discount:',divcust)"
   ]
  },
  {
   "cell_type": "markdown",
   "id": "43016a7b",
   "metadata": {
    "id": "43016a7b"
   },
   "source": [
    "## Announcement Preview\n",
    "You're developing an announcement preview tool for a messaging platform. The tool needs to provide a concise preview of longer messages.\n",
    "\n",
    "### Task:\n",
    "Given a message: \"Join us for the webinar on Aug 30, 2023, 2:00 PM (GMT)\", perform the following tasks:\n",
    "\n",
    "* Calculate the length of the message.\n",
    "* Replace the word \"webinar\" with \"online session\".\n",
    "* Extract the date \"Aug 30, 2023\".\n",
    "* Create a shortened preview containing only the first 40 characters.\n",
    "* Extract time.\n",
    "\n",
    "Print all the results"
   ]
  },
  {
   "cell_type": "code",
   "execution_count": 51,
   "id": "6e1ba32e-dea2-429a-976f-52540cad3a7a",
   "metadata": {},
   "outputs": [
    {
     "name": "stdout",
     "output_type": "stream",
     "text": [
      "54\n",
      "extracted: Aug 30, 2023\n",
      "short: Join us for the webinar on Aug 30, 2023,\n",
      "time:  2:00 PM (GMT)\n"
     ]
    }
   ],
   "source": [
    "# YOUR CODE HERE\n",
    "announce=\"Join us for the webinar on Aug 30, 2023, 2:00 PM (GMT)\"\n",
    "print(len(announce))\n",
    "announce.replace(\"webinar\",\"online session\")\n",
    "extracted=announce[27:39]\n",
    "print(\"extracted:\",extracted)\n",
    "short=announce[:40]\n",
    "print(\"short:\",short)\n",
    "time=announce[40:]\n",
    "print(\"time:\",time)"
   ]
  },
  {
   "cell_type": "markdown",
   "id": "86e05828",
   "metadata": {
    "id": "86e05828"
   },
   "source": [
    "## Fitness Progress Tracker\n",
    "You're developing a fitness progress tracker that records different exercises performed each day.\n",
    "\n",
    "### Task:\n",
    "Given exercise logs: ['Running', 'Push-ups', 'Yoga', 'Swimming'], perform the following tasks:\n",
    "\n",
    "* Create an empty log for cardio exercises.\n",
    "* Append 'Cycling' to the cardio log.\n",
    "* Insert 'Plank' as the second exercise in the log.\n",
    "* Extract the exercise 'Yoga' from the list.\n",
    "* Create a brief cardio log containing only the first two exercises.\n",
    "* Extract all items from list\n",
    "* Extract  all items except first and last from list\n",
    "\n",
    "Print all the results."
   ]
  },
  {
   "cell_type": "code",
   "execution_count": 77,
   "id": "ebdff823",
   "metadata": {
    "id": "ebdff823"
   },
   "outputs": [
    {
     "name": "stdout",
     "output_type": "stream",
     "text": [
      "['Running', 'Plank', 'Push-ups', 'Yoga', 'Swimming']\n",
      "Yoga\n",
      "['Cycling', 'Plank']\n",
      "[]\n",
      "['Running', 'Swimming']\n"
     ]
    },
    {
     "data": {
      "text/plain": [
       "list"
      ]
     },
     "execution_count": 77,
     "metadata": {},
     "output_type": "execute_result"
    }
   ],
   "source": [
    "# YOUR CODE HERE\n",
    "cardiolog=[]\n",
    "exercise_logs= ['Running', 'Push-ups', 'Yoga', 'Swimming']\n",
    "cardiolog.append('Cycling')\n",
    "exercise_logs.insert(1,'Plank')\n",
    "print(exercise_logs)\n",
    "extractcardio=exercise_logs.pop(3)\n",
    "print(extractcardio)\n",
    "cardiolog.append(exercise_logs[1])\n",
    "print(cardiolog)\n",
    "cardiolog.clear()\n",
    "print(cardiolog)\n",
    "exercise_logs=[exercise_logs[0],exercise_logs[-1]]\n",
    "print(exercise_logs)\n",
    "type(exercise_logs)"
   ]
  },
  {
   "cell_type": "markdown",
   "id": "708ba589",
   "metadata": {
    "id": "708ba589"
   },
   "source": [
    "## Bookshelf Organizer\n",
    "You're working on a bookshelf organizer for a library app.\n",
    "\n",
    "### Task:\n",
    "Given a list of book titles: ['Book A', 'Book B', 'Book C', 'Book D'], perform the following tasks:\n",
    "\n",
    "* Create an empty list for recommended books.\n",
    "* Append 'Recommended Book' to the recommended books list.\n",
    "* Insert 'Bestseller' as the second book in the list.\n",
    "* Extract the last book from the list.\n",
    "* Create a concise book list containing only the first three books.\n",
    "* Insert \"Thore\" as last item in list\n",
    "\n",
    "Print all the results."
   ]
  },
  {
   "cell_type": "code",
   "execution_count": 87,
   "id": "2db8678f",
   "metadata": {
    "colab": {
     "base_uri": "https://localhost:8080/"
    },
    "id": "2db8678f",
    "outputId": "333c5c49-09a0-4538-ed44-e3ac55193710"
   },
   "outputs": [
    {
     "name": "stdout",
     "output_type": "stream",
     "text": [
      "['Recommended books', 'best seller']\n",
      "['Recommended books']\n",
      "['Book A', 'Book B', 'Book C']\n",
      "['Book A', 'Book B', 'Book C', 'thore']\n"
     ]
    }
   ],
   "source": [
    "# YOUR CODE HERE\n",
    "book_titles= ['Book A', 'Book B', 'Book C', 'Book D']\n",
    "recommendedbookslist=[]\n",
    "recommendedbookslist.append('Recommended books')\n",
    "recommendedbookslist.append('best seller')\n",
    "print(recommendedbookslist)\n",
    "recommendedbookslist.pop()\n",
    "print(recommendedbookslist)\n",
    "book_titles=book_titles[0:3]\n",
    "print(book_titles)\n",
    "book_titles.append('thore')\n",
    "print(book_titles)\n",
    "\n"
   ]
  },
  {
   "cell_type": "markdown",
   "id": "e915c00c",
   "metadata": {
    "id": "e915c00c"
   },
   "source": [
    "## Coulomb's Law Calculator\n",
    "You're developing a calculator to apply Coulomb's law for electrostatic interactions.\n",
    "\n",
    "### Scenario:\n",
    "As a user, you'll input the charges (q1 and q2) of two objects and the distance (r) between them. The calculator will determine the electrostatic force (F) between the objects.\n",
    "\n",
    "#### Task:\n",
    "* Enter the charges of the two objects (q1 and q2) and the distance (r).\n",
    "* Calculate the electrostatic force (F) using Coulomb's law: F = k * q1 * q2 / r^2, where k is the electrostatic constant."
   ]
  },
  {
   "cell_type": "code",
   "execution_count": 89,
   "id": "a40292c7",
   "metadata": {
    "id": "a40292c7"
   },
   "outputs": [
    {
     "name": "stdin",
     "output_type": "stream",
     "text": [
      "q1= 2\n",
      "q2= 4\n",
      "r= 2\n"
     ]
    },
    {
     "name": "stdout",
     "output_type": "stream",
     "text": [
      "F of coulumb charge is:= 4.0\n"
     ]
    }
   ],
   "source": [
    "#YOUR CODE HERE\n",
    "q1=int(input('q1='))\n",
    "q2=int(input('q2='))\n",
    "r=int(input('r='))\n",
    "k=2\n",
    "f=(k*q1*q2)/(r**2)\n",
    "print(\"F of coulumb charge is:=\",f)"
   ]
  },
  {
   "cell_type": "markdown",
   "id": "b30b01a0",
   "metadata": {
    "id": "b30b01a0"
   },
   "source": [
    "<center><h2 style=\"font-family: 'Vladimir Script', serif;\">Happy Coding</h2></center>"
   ]
  }
 ],
 "metadata": {
  "colab": {
   "provenance": []
  },
  "kernelspec": {
   "display_name": "Python 3 (ipykernel)",
   "language": "python",
   "name": "python3"
  },
  "language_info": {
   "codemirror_mode": {
    "name": "ipython",
    "version": 3
   },
   "file_extension": ".py",
   "mimetype": "text/x-python",
   "name": "python",
   "nbconvert_exporter": "python",
   "pygments_lexer": "ipython3",
   "version": "3.13.7"
  }
 },
 "nbformat": 4,
 "nbformat_minor": 5
}
