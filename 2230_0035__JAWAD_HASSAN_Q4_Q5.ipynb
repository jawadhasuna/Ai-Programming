{
  "nbformat": 4,
  "nbformat_minor": 0,
  "metadata": {
    "colab": {
      "provenance": []
    },
    "kernelspec": {
      "name": "python3",
      "display_name": "Python 3"
    },
    "language_info": {
      "name": "python"
    }
  },
  "cells": [
    {
      "cell_type": "markdown",
      "source": [
        "# Name: Jawad Hassan\n",
        "# Section: Bs Ai\n",
        "# Roll No: 2230-0035\n",
        "# Teacher: Ms. Salma Asif\n",
        "#Assigment: 1"
      ],
      "metadata": {
        "id": "Xbyhj63lLMTu"
      }
    },
    {
      "cell_type": "code",
      "execution_count": 71,
      "metadata": {
        "id": "Ew6VHsie_vpM",
        "colab": {
          "base_uri": "https://localhost:8080/"
        },
        "outputId": "3deb8325-d4a3-430b-fcfd-f3f5c0331ca3"
      },
      "outputs": [
        {
          "output_type": "stream",
          "name": "stdout",
          "text": [
            "I am Jawad Hassan\n",
            "My Roll NUmber is 2230-0035\n",
            "My degree is BS(AI)\n",
            "Smile its Sunnah\n",
            "     _________      \n",
            "    /         \\\n",
            "    |  O   O  |\n",
            "    |    ^    |\n",
            "    | \\_____/ |\n",
            "    \\_________/\n"
          ]
        }
      ],
      "source": [
        "#Question 4:\n",
        "#1\n",
        "print(\"I\",\"am\",\"Jawad\",\"Hassan\")\n",
        "print(\"My\",\"Roll\",\"NUmber\",\"is\",\"2230-0035\")\n",
        "print(\"My\",\"degree\",\"is\",\"BS(AI)\")\n",
        "print(\"Smile\",\"its\",\"Sunnah\")\n",
        "\n",
        "#2\n",
        "s1='_________'\n",
        "s2='/'\n",
        "s3=\"\\\\\"\n",
        "s4='|'\n",
        "s5='O'\n",
        "s6='^'\n",
        "print(s1.center(20,' '))\n",
        "print(s2.rjust(5,' '),s3.rjust(9,' '))\n",
        "print(s4.rjust(5,' '),s5.center(3,' '),s5.center(3,' '),s4.rjust(0,' '))\n",
        "print(s4.rjust(5,' '),s6.center(7,' '),s4.rjust(0,' '))\n",
        "print(s4.rjust(5,' ')+s3.rjust(2,' ')+'{}'.format('_____')+f'{s2}'+s4.rjust(2,' '))\n",
        "print(s3.rjust(5,' ')+s1.center(0,'-')+s2.ljust(0,' '))"
      ]
    },
    {
      "cell_type": "code",
      "source": [
        "#Question 5:\n",
        "studsys=[\n",
        "          {\n",
        "          'roll':1,\n",
        "          'name':'jawad',\n",
        "          'courses':('AI','ML','CV'),\n",
        "          'marks':{'AI':100,'ML':90,'CV':70}\n",
        "          },\n",
        "          {\n",
        "           'roll':2,\n",
        "          'name':'ali',\n",
        "          'courses':('AI','ML','CV'),\n",
        "          'marks':{'AI':90,'ML':91,'CV':100}\n",
        "          },\n",
        "         {\n",
        "           'roll':3,\n",
        "          'name':'faraz',\n",
        "          'courses':('AI','ML','CV'),\n",
        "          'marks':{'AI':88,'ML':96,'CV':72}\n",
        "          },\n",
        "         {\n",
        "           'roll':4,\n",
        "          'name':'sohail',\n",
        "          'courses':('AI','ML','CV'),\n",
        "          'marks':{'AI':97,'ML':90,'CV':70}\n",
        "          },\n",
        "          {\n",
        "           'roll':5,\n",
        "          'name':'shan',\n",
        "          'courses':('AI','ML','CV'),\n",
        "          'marks':{'AI':60,'ML':70,'CV':80}\n",
        "          }\n",
        "         ]\n",
        "#tasks:\n",
        "#a)\n",
        "print('student name:{}'.format(studsys[1]['name']),',roll number:{}'.format(studsys[1]['roll']),'has hight marks in all courses.')\n",
        "#b)\n",
        "aicourse=[studsys[0]['marks']['AI'],studsys[1]['marks']['AI'],studsys[2]['marks']['AI'],studsys[3]['marks']['AI'],studsys[4]['marks']['AI']]\n",
        "mlcourse=[studsys[0]['marks']['ML'],studsys[1]['marks']['ML'],studsys[2]['marks']['ML'],studsys[3]['marks']['ML'],studsys[4]['marks']['ML']]\n",
        "cvcourse=[studsys[0]['marks']['CV'],studsys[1]['marks']['CV'],studsys[2]['marks']['CV'],studsys[3]['marks']['CV'],studsys[4]['marks']['CV']]\n",
        "print('AI course topper details:',studsys[aicourse.index(max(aicourse))])\n",
        "print('ML course topper details:',studsys[mlcourse.index(max(mlcourse))])\n",
        "print('CV course topper details:',studsys[cvcourse.index(max(cvcourse))])\n",
        "#c\n",
        "if studsys[4]['marks']['AI']<80:\n",
        "  studsys[4]['marks']['AI']+=5\n",
        "if studsys[4]['marks']['ML']<80:\n",
        "  studsys[4]['marks']['ML']+=5\n",
        "if studsys[4]['marks']['CV']<80:\n",
        "  studsys[4]['marks']['CV']+=5\n",
        "#d\n",
        "course=set()\n",
        "for student in studsys:\n",
        "  course.update(student['courses'])\n",
        "print('unique courses:',list(course))\n",
        "#e\n",
        "if (studsys[0]['courses'])==(studsys[1]['courses']):\n",
        "  print('students have same courses offered:',studsys[0]['name'],\",\",studsys[1]['name'])\n",
        "if (studsys[3]['courses'])==(studsys[4]['courses']):\n",
        "   print('students have same courses offered:',studsys[3]['name'],\",\",studsys[4]['name'])\n",
        "#f\n",
        "for student in studsys:\n",
        "  if student['roll']==3:\n",
        "    studsys.remove(student)\n",
        "print('updated list:',studsys)\n",
        "\n"
      ],
      "metadata": {
        "id": "umNqq4WqGPmM",
        "colab": {
          "base_uri": "https://localhost:8080/"
        },
        "outputId": "abf643e2-dfac-4215-8c68-c5b9b1e403cf"
      },
      "execution_count": 101,
      "outputs": [
        {
          "output_type": "stream",
          "name": "stdout",
          "text": [
            "student name:ali ,roll number:2 has hight marks in all courses.\n",
            "AI course topper details: {'roll': 1, 'name': 'jawad', 'courses': ('AI', 'ML', 'CV'), 'marks': {'AI': 100, 'ML': 90, 'CV': 70}}\n",
            "ML course topper details: {'roll': 3, 'name': 'faraz', 'courses': ('AI', 'ML', 'CV'), 'marks': {'AI': 88, 'ML': 96, 'CV': 72}}\n",
            "CV course topper details: {'roll': 2, 'name': 'ali', 'courses': ('AI', 'ML', 'CV'), 'marks': {'AI': 90, 'ML': 91, 'CV': 100}}\n",
            "unique courses: ['AI', 'CV', 'ML']\n",
            "students have same courses offered: jawad , ali\n",
            "students have same courses offered: sohail , shan\n",
            "updated list: [{'roll': 1, 'name': 'jawad', 'courses': ('AI', 'ML', 'CV'), 'marks': {'AI': 100, 'ML': 90, 'CV': 70}}, {'roll': 2, 'name': 'ali', 'courses': ('AI', 'ML', 'CV'), 'marks': {'AI': 90, 'ML': 91, 'CV': 100}}, {'roll': 4, 'name': 'sohail', 'courses': ('AI', 'ML', 'CV'), 'marks': {'AI': 97, 'ML': 90, 'CV': 70}}, {'roll': 5, 'name': 'shan', 'courses': ('AI', 'ML', 'CV'), 'marks': {'AI': 65, 'ML': 75, 'CV': 80}}]\n"
          ]
        }
      ]
    }
  ]
}