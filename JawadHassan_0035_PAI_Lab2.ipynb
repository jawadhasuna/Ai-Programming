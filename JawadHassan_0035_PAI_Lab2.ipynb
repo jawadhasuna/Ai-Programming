{
  "cells": [
    {
      "cell_type": "markdown",
      "metadata": {
        "id": "Xbyhj63lLMTu"
      },
      "source": [
        "# Name: Jawad Hassan\n",
        "# Section: Bs Ai\n",
        "# Roll No: 2230-0035\n",
        "# Teacher: Miss Salma\n",
        "#Lab 2"
      ]
    },
    {
      "cell_type": "code",
      "execution_count": 13,
      "metadata": {
        "colab": {
          "base_uri": "https://localhost:8080/"
        },
        "id": "Ew6VHsie_vpM",
        "outputId": "ed91ebae-90d4-4b5a-c28e-7b6532d6a30c"
      },
      "outputs": [
        {
          "output_type": "stream",
          "name": "stdout",
          "text": [
            "author:mady\n",
            "titleglass man\n",
            "publication year:2003\n",
            "availability status:available\n",
            "[('fault in sky', 2001, 'borrowed'), ('roofman', 2002, 'available')]\n",
            "newset: [('running man', 2004, 'available')]\n",
            "oldest: ('fault in sky', 2001, 'borrowed')\n",
            "[('running man', 2004, 'available')]\n",
            "[('glass man', 2003, 'available')]\n"
          ]
        }
      ],
      "source": [
        "#task1 Library Catalog System\n",
        "libsys={\n",
        "    'ali':[('fault in sky',2001,'available'),('roofman',2002,'available')],\n",
        "    'ahmed':[('running man',2004,'available')]\n",
        "}\n",
        "def add_book():\n",
        "  auth=input('author:')\n",
        "  tit=input('title')\n",
        "  pub=int(input('publication year:'))\n",
        "  avail=input('availability status:')\n",
        "  libsys.update({auth:[(tit,pub,avail)]})\n",
        "def bookstat():\n",
        "  listlib=list(libsys['ali'][0])\n",
        "  listlib [2]='borrowed'\n",
        "  libsys['ali'][0]=tuple(listlib)\n",
        "def display():\n",
        "    print(libsys['ali'])\n",
        "def find():\n",
        "  print('newset:',libsys['ahmed'])\n",
        "  print('oldest:',libsys['ali'][0])\n",
        "def available():\n",
        "  for i in libsys:\n",
        "    if libsys[i][0][2]=='available':\n",
        "      print(libsys[i])\n",
        "add_book()\n",
        "bookstat()\n",
        "display()\n",
        "find()\n",
        "available()\n",
        "\n"
      ]
    },
    {
      "cell_type": "code",
      "source": [
        "#task2 Applying Celsius to Fahrenheit\n",
        "tempcelcius=[22,34.2,33.2,55.4,77.2,88.4,99.2,26.4]\n",
        "faranheit=[]\n",
        "faran= lambda c: (9/5)*c+32\n",
        "for i in tempcelcius:\n",
        "  faranheit.append(faran(i))\n",
        "print(faranheit)\n"
      ],
      "metadata": {
        "colab": {
          "base_uri": "https://localhost:8080/"
        },
        "id": "JAfKiYIlpLf3",
        "outputId": "0a40c56d-671f-4b54-e809-98103f7332a8"
      },
      "execution_count": 15,
      "outputs": [
        {
          "output_type": "stream",
          "name": "stdout",
          "text": [
            "[71.6, 93.56, 91.76, 131.72, 170.96, 191.12, 210.56, 79.52]\n"
          ]
        }
      ]
    },
    {
      "cell_type": "code",
      "source": [
        "#task3\n",
        "Text =\" Hello  python  world  \"\n",
        "print(' '.join(reversed(Text.split())))\n",
        "print(' '.join(Text.split()[::-1]))"
      ],
      "metadata": {
        "colab": {
          "base_uri": "https://localhost:8080/"
        },
        "id": "WkOUq6dkxMg-",
        "outputId": "1c3af594-69d4-4901-ad58-e6cdb33962ba"
      },
      "execution_count": 56,
      "outputs": [
        {
          "output_type": "stream",
          "name": "stdout",
          "text": [
            "world python Hello\n",
            "world python Hello\n"
          ]
        }
      ]
    },
    {
      "cell_type": "code",
      "source": [
        "#task4\n",
        "text = \"This is the first sentence. Here is another. And finally, the last one. \"\n",
        "print('.'.join(reversed(text.split(\".\"))))"
      ],
      "metadata": {
        "colab": {
          "base_uri": "https://localhost:8080/"
        },
        "id": "CWxiC4zi125R",
        "outputId": "c1c07e56-60b1-4e2c-c381-43864a29fed3"
      },
      "execution_count": 66,
      "outputs": [
        {
          "output_type": "stream",
          "name": "stdout",
          "text": [
            " . And finally, the last one. Here is another.This is the first sentence\n"
          ]
        }
      ]
    },
    {
      "cell_type": "code",
      "source": [
        "#task5\n",
        "square=[\n",
        "    [1,2,3],\n",
        "    [4,5,6],\n",
        "    [8,8,9]\n",
        "]\n",
        "sum1=square[0][0]+square[1][1]+square[2][2]\n",
        "sum2=square[0][2]+square[1][1]+square[2][0]\n",
        "print(sum1)\n",
        "print(sum2)\n",
        "print(abs(sum1-sum2))"
      ],
      "metadata": {
        "colab": {
          "base_uri": "https://localhost:8080/"
        },
        "id": "TWhwqm5tDb_o",
        "outputId": "def6d05d-40aa-455c-a22b-3555c4bc5d36"
      },
      "execution_count": 71,
      "outputs": [
        {
          "output_type": "stream",
          "name": "stdout",
          "text": [
            "15\n",
            "16\n",
            "1\n"
          ]
        }
      ]
    },
    {
      "cell_type": "code",
      "source": [
        "#task6\n",
        "students=[]\n",
        "for i in range(10):\n",
        "  firstName, lastName, age, degreeProgram=input('enter first name, last name,age,degree program').split()\n",
        "  student={'firstName':firstName, 'lastName':lastName, 'age':age, 'degreeProgram':degreeProgram}\n",
        "  students.append(student)\n",
        "print(students[::-1])\n"
      ],
      "metadata": {
        "colab": {
          "base_uri": "https://localhost:8080/"
        },
        "id": "O5vaL15uDYrO",
        "outputId": "78f0bb4a-8d21-41d0-beb6-c154012226a3"
      },
      "execution_count": 85,
      "outputs": [
        {
          "output_type": "stream",
          "name": "stdout",
          "text": [
            "enter first name, last name,age,degree programjawad hassan 21 ai\n",
            "enter first name, last name,age,degree programali ahmed 22 cs\n",
            "enter first name, last name,age,degree programshafiq ali 33 ai\n",
            "enter first name, last name,age,degree programusman ali 22 cys\n",
            "enter first name, last name,age,degree programsara neelum 23 ai\n",
            "enter first name, last name,age,degree programumna sana 21 ai\n",
            "enter first name, last name,age,degree programsara amna 23 cs\n",
            "enter first name, last name,age,degree programamna malik 44 se\n",
            "enter first name, last name,age,degree programminahil javed 20 ai\n",
            "enter first name, last name,age,degree programshan ali 22 se\n",
            "[{'firstName': 'shan', 'lastName': 'ali', 'age': '22', 'degreeProgram': 'se'}, {'firstName': 'minahil', 'lastName': 'javed', 'age': '20', 'degreeProgram': 'ai'}, {'firstName': 'amna', 'lastName': 'malik', 'age': '44', 'degreeProgram': 'se'}, {'firstName': 'sara', 'lastName': 'amna', 'age': '23', 'degreeProgram': 'cs'}, {'firstName': 'umna', 'lastName': 'sana', 'age': '21', 'degreeProgram': 'ai'}, {'firstName': 'sara', 'lastName': 'neelum', 'age': '23', 'degreeProgram': 'ai'}, {'firstName': 'usman', 'lastName': 'ali', 'age': '22', 'degreeProgram': 'cys'}, {'firstName': 'shafiq', 'lastName': 'ali', 'age': '33', 'degreeProgram': 'ai'}, {'firstName': 'ali', 'lastName': 'ahmed', 'age': '22', 'degreeProgram': 'cs'}, {'firstName': 'jawad', 'lastName': 'hassan', 'age': '21', 'degreeProgram': 'ai'}]\n"
          ]
        }
      ]
    },
    {
      "cell_type": "code",
      "source": [
        "#task7\n",
        "l1=[1,2,3,2,1]\n",
        "l2=[1, \"abc\", \"abc\", 1]\n",
        "l1copy=l1.copy()\n",
        "l2copy=l2.copy()\n",
        "if (l1[:] == l1copy[::-1]):\n",
        "  print('l1 palindrome')\n",
        "else:\n",
        "  print('l1 not palindrome')\n",
        "if l2[:]==l2copy[::-1]:\n",
        "  print('l2 palindrome')\n",
        "else:\n",
        "  print('l2 not palindrome')\n",
        "\n"
      ],
      "metadata": {
        "colab": {
          "base_uri": "https://localhost:8080/"
        },
        "id": "hoAggfc3Dl8r",
        "outputId": "0d969a72-1aaa-400a-87d5-cbc209d764da"
      },
      "execution_count": 104,
      "outputs": [
        {
          "output_type": "stream",
          "name": "stdout",
          "text": [
            "l1 palindrome\n",
            "l2 palindrome\n"
          ]
        }
      ]
    },
    {
      "cell_type": "code",
      "source": [
        "#task8\n",
        "marks={\n",
        "\n",
        "}\n",
        "sub1=input('enter sub1:')\n",
        "marks1=int(input('sub1 marks:'))\n",
        "sub2=input('enter sub2:')\n",
        "marks2=int(input('sub2 marks:'))\n",
        "sub3=input('enter sub3:')\n",
        "marks3=int(input('sub3 marks:'))\n",
        "marks.update({sub1:marks1})\n",
        "marks.update({sub2:marks2})\n",
        "marks.update({sub3:marks3})\n",
        "print(marks)"
      ],
      "metadata": {
        "colab": {
          "base_uri": "https://localhost:8080/"
        },
        "id": "2V4UZzeTDmQq",
        "outputId": "e4cba8f7-0fff-495e-8cb7-b923608ea885"
      },
      "execution_count": 82,
      "outputs": [
        {
          "output_type": "stream",
          "name": "stdout",
          "text": [
            "enter sub1:maths\n",
            "sub1 marks:99\n",
            "enter sub2:science\n",
            "sub2 marks:88\n",
            "enter sub3:urdu\n",
            "sub3 marks:77\n",
            "{'maths': 99, 'science': 88, 'urdu': 77}\n"
          ]
        }
      ]
    },
    {
      "cell_type": "code",
      "source": [
        "#task9\n",
        "employees = {\n",
        "   101: (\"Alice\", \"AI Engineer\", [\"Python\", \"ML\", \"DL\"]),\n",
        "   102: (\"Bob\", \"Data Scientist\", [\"R\", \"Python\", \"SQL\"]),\n",
        "   103: (\"Charlie\", \"Web Developer\", [\"HTML\", \"CSS\", \"JS\"])\n",
        "}\n",
        "employees.update({104 : (\"David\", \"Cloud Engineer\", [\"AWS\", \"Docker\", \"Python\"])})\n",
        "emp=list(employees[103])\n",
        "emp[1]=\"Full-Stack Developer\"\n",
        "employees[103]=tuple(emp)\n",
        "print (employees)"
      ],
      "metadata": {
        "colab": {
          "base_uri": "https://localhost:8080/"
        },
        "id": "sh2WHmEqDmjO",
        "outputId": "7192f2ad-354e-4752-ae6e-ebb3aaa5294b"
      },
      "execution_count": 81,
      "outputs": [
        {
          "output_type": "stream",
          "name": "stdout",
          "text": [
            "{101: ('Alice', 'AI Engineer', ['Python', 'ML', 'DL']), 102: ('Bob', 'Data Scientist', ['R', 'Python', 'SQL']), 103: ('Charlie', 'Full-Stack Developer', ['HTML', 'CSS', 'JS']), 104: ('David', 'Cloud Engineer', ['AWS', 'Docker', 'Python'])}\n"
          ]
        }
      ]
    },
    {
      "cell_type": "code",
      "source": [
        "#task10\n",
        "data = (10, 20, 30, 40, 50, 60, 70, 80)\n",
        "data2=data[:3]+data[5:8]\n",
        "print (data2)\n",
        "print (data[::-1])\n",
        "t3=data[::2]\n",
        "print(t3)\n",
        "t4=data[1::2]\n",
        "print(t4)\n",
        "data=data[4:]+data[0:4]\n",
        "print(data)"
      ],
      "metadata": {
        "colab": {
          "base_uri": "https://localhost:8080/"
        },
        "id": "tuEh_3kDEYnP",
        "outputId": "70b6673a-a0e9-4430-edcd-afb472076b68"
      },
      "execution_count": 76,
      "outputs": [
        {
          "output_type": "stream",
          "name": "stdout",
          "text": [
            "(10, 20, 30, 60, 70, 80)\n",
            "(80, 70, 60, 50, 40, 30, 20, 10)\n",
            "(10, 30, 50, 70)\n",
            "(20, 40, 60, 80)\n",
            "(50, 60, 70, 80, 10, 20, 30, 40)\n"
          ]
        }
      ]
    }
  ],
  "metadata": {
    "colab": {
      "provenance": []
    },
    "kernelspec": {
      "display_name": "Python 3 (ipykernel)",
      "language": "python",
      "name": "python3"
    },
    "language_info": {
      "codemirror_mode": {
        "name": "ipython",
        "version": 3
      },
      "file_extension": ".py",
      "mimetype": "text/x-python",
      "name": "python",
      "nbconvert_exporter": "python",
      "pygments_lexer": "ipython3",
      "version": "3.13.7"
    }
  },
  "nbformat": 4,
  "nbformat_minor": 0
}