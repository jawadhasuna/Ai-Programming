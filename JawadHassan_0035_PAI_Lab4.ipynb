{
  "nbformat": 4,
  "nbformat_minor": 0,
  "metadata": {
    "colab": {
      "provenance": []
    },
    "kernelspec": {
      "name": "python3",
      "display_name": "Python 3"
    },
    "language_info": {
      "name": "python"
    }
  },
  "cells": [
    {
      "cell_type": "markdown",
      "source": [
        "# Name: Jawad Hassan\n",
        "# Section: Bs Ai\n",
        "# Roll No: 2230-0035\n",
        "# Teacher: Ms. Salma\n",
        "#Lab: 4\n"
      ],
      "metadata": {
        "id": "Xbyhj63lLMTu"
      }
    },
    {
      "cell_type": "code",
      "source": [
        "#task1\n",
        "def count_even_odd(numbers):\n",
        "  even=0\n",
        "  odd=0\n",
        "  for i in numbers:\n",
        "    if i%2==0:\n",
        "      even+=1\n",
        "    else:\n",
        "      odd+=1\n",
        "  print('even count:',even)\n",
        "  print('odd count:',odd)\n",
        "numb=[1,2,3,4,5,6,7,8,9]\n",
        "count_even_odd(numb)"
      ],
      "metadata": {
        "id": "vUxzP-BZoCGx",
        "colab": {
          "base_uri": "https://localhost:8080/"
        },
        "outputId": "a393ea5f-3e8c-4dd0-ad35-caf7d06e2691"
      },
      "execution_count": 2,
      "outputs": [
        {
          "output_type": "stream",
          "name": "stdout",
          "text": [
            "even count: 4\n",
            "odd count: 5\n"
          ]
        }
      ]
    },
    {
      "cell_type": "code",
      "source": [
        "#task2\n",
        "def analyze_string(s):\n",
        "  vowels=0\n",
        "  consonants=0\n",
        "  digits=0\n",
        "  special=0\n",
        "  for i in s:\n",
        "    if i.lower()=='a' or i.lower()=='e' or i.lower()=='i' or i.lower()=='o' or i.lower()=='u':\n",
        "      vowels+=1\n",
        "    elif i.isalpha():\n",
        "      consonants+=1\n",
        "    elif i.isdigit():\n",
        "      digits+=1\n",
        "    else:\n",
        "      special+=1\n",
        "  print('vowels:',vowels)\n",
        "  print('consonants:',consonants)\n",
        "  print('digits:',digits)\n",
        "  print('special:',special)\n",
        "alphas='IAmgrea8_boy*'\n",
        "analyze_string(alphas)"
      ],
      "metadata": {
        "colab": {
          "base_uri": "https://localhost:8080/"
        },
        "id": "OJel9rrUoqJw",
        "outputId": "4d28af92-8e07-4bdf-9b59-b2fcd14b2b96"
      },
      "execution_count": 13,
      "outputs": [
        {
          "output_type": "stream",
          "name": "stdout",
          "text": [
            "vowels: 5\n",
            "consonants: 5\n",
            "digits: 1\n",
            "special: 2\n"
          ]
        }
      ]
    },
    {
      "cell_type": "code",
      "source": [
        "from re import I\n",
        "#task3\n",
        "def find_max(t):\n",
        "  max=t[0]\n",
        "  for i in t:\n",
        "    if i>max:\n",
        "      max=i\n",
        "  return max\n",
        "tup=(1,2,3,4,5)\n",
        "print('max:',find_max(tup))"
      ],
      "metadata": {
        "colab": {
          "base_uri": "https://localhost:8080/"
        },
        "id": "ZjyULZesoqSV",
        "outputId": "458ec2cc-9428-431c-9d56-2ac5ac5f0488"
      },
      "execution_count": 14,
      "outputs": [
        {
          "output_type": "stream",
          "name": "stdout",
          "text": [
            "max: 5\n"
          ]
        }
      ]
    },
    {
      "cell_type": "code",
      "source": [
        "#task4\n",
        "def search_student(record,name):\n",
        "  rec=False\n",
        "  for sname,marks in record.items():\n",
        "    if sname==name:\n",
        "      print('marks:',marks)\n",
        "      rec=True\n",
        "  if rec==False:\n",
        "    print('record not found')\n",
        "dic={\n",
        "    'jawad':88,\n",
        "    'ali':60,\n",
        "    'irfan':33,\n",
        "    'ahmed':40\n",
        "    }\n",
        "search_student(dic,'jawad')\n",
        "search_student(dic,'faraz')"
      ],
      "metadata": {
        "colab": {
          "base_uri": "https://localhost:8080/"
        },
        "id": "US6J1fUtoqaB",
        "outputId": "c4568c2c-e621-45a7-de62-dec226b11c68"
      },
      "execution_count": 20,
      "outputs": [
        {
          "output_type": "stream",
          "name": "stdout",
          "text": [
            "marks: 88\n",
            "record not found\n"
          ]
        }
      ]
    },
    {
      "cell_type": "code",
      "source": [
        "#task5\n",
        "def filter_greater_than(lst,threshold):\n",
        "  thrsh=False\n",
        "  for i in lst:\n",
        "    if i>threshold:\n",
        "      print(i,end=' ')\n",
        "      thrsh=True\n",
        "  if thrsh==False:\n",
        "    print('no numbers greater than threshold')\n",
        "numbs=[1,2,3,4,5,6,7,8]\n",
        "filter_greater_than(numbs,4)"
      ],
      "metadata": {
        "colab": {
          "base_uri": "https://localhost:8080/"
        },
        "id": "apVraEmboqhZ",
        "outputId": "cf4ef577-c999-4118-ed4c-4154eb210ef6"
      },
      "execution_count": 23,
      "outputs": [
        {
          "output_type": "stream",
          "name": "stdout",
          "text": [
            "5 6 7 8 "
          ]
        }
      ]
    },
    {
      "cell_type": "code",
      "source": [
        "#task6\n",
        "def is_palindrome(word):\n",
        "  if word[::-1]==word:\n",
        "    print('palindrome:',word)\n",
        "  else:\n",
        "    print('not palindrome:',word)\n",
        "is_palindrome('football')\n",
        "is_palindrome('level')"
      ],
      "metadata": {
        "colab": {
          "base_uri": "https://localhost:8080/"
        },
        "id": "doJg4fs2oqpN",
        "outputId": "893dc591-4bfc-4a77-f53e-1dc2ba698706"
      },
      "execution_count": 33,
      "outputs": [
        {
          "output_type": "stream",
          "name": "stdout",
          "text": [
            "not palindrome: football\n",
            "palindrome: level\n"
          ]
        }
      ]
    },
    {
      "cell_type": "code",
      "source": [
        "#task7\n",
        "def char_frequency(text):\n",
        "  freq={}\n",
        "  for i in text:\n",
        "    if i not in freq:\n",
        "      freq[i]=1\n",
        "    else:\n",
        "      freq[i]+=1\n",
        "  print('count of characters:',freq)\n",
        "char_frequency('hello how are u')"
      ],
      "metadata": {
        "colab": {
          "base_uri": "https://localhost:8080/"
        },
        "id": "FMqzHSjFoqwp",
        "outputId": "361497f9-69b7-417c-a4aa-894293f8f343"
      },
      "execution_count": 42,
      "outputs": [
        {
          "output_type": "stream",
          "name": "stdout",
          "text": [
            "count of characters: {'h': 2, 'e': 2, 'l': 2, 'o': 2, ' ': 3, 'w': 1, 'a': 1, 'r': 1, 'u': 1}\n"
          ]
        }
      ]
    },
    {
      "cell_type": "code",
      "source": [
        "#task8\n",
        "import custommath as cm\n",
        "print(cm.factorial(int(input('enter num for factorial:'))))\n",
        "print(cm.fibonacci(int(input('enter num for fibonacci:'))))\n",
        "a,b=map(int,input('enter for gcd a and b:').split())\n",
        "print(cm.gcd (a,b))\n",
        "\n"
      ],
      "metadata": {
        "colab": {
          "base_uri": "https://localhost:8080/"
        },
        "id": "QHEPqBmDoq4s",
        "outputId": "709793e5-e322-4f82-9ecf-6e8ac7905d5a"
      },
      "execution_count": 48,
      "outputs": [
        {
          "output_type": "stream",
          "name": "stdout",
          "text": [
            "enter num for factorial:5\n",
            "120\n",
            "enter num for fibonacci:6\n",
            "8\n",
            "enter for gcd a and b:6 4\n",
            "2\n"
          ]
        }
      ]
    },
    {
      "cell_type": "code",
      "source": [
        "#activityLab\n",
        "def uniqueval(a):\n",
        "  unique=[]\n",
        "  for i in a:\n",
        "    if i not in unique:\n",
        "      unique.append(i)\n",
        "  return unique\n",
        "\n",
        "listt=[1,2,2,3,4,4,5,6]\n",
        "a=uniqueval(listt)\n",
        "print(a)"
      ],
      "metadata": {
        "id": "CCX49tG1oClY",
        "colab": {
          "base_uri": "https://localhost:8080/"
        },
        "outputId": "8b6b41ed-ef60-4617-be35-e3379d28dfa8"
      },
      "execution_count": null,
      "outputs": [
        {
          "output_type": "stream",
          "name": "stdout",
          "text": [
            "[1, 2, 3, 4, 5, 6]\n"
          ]
        }
      ]
    },
    {
      "cell_type": "code",
      "source": [
        "def createdic(n):\n",
        "  squaredic={}\n",
        "  for i in range(1,n+1):\n",
        "    squaredic[i]=i**2\n",
        "\n",
        "  for i,val in squaredic.items():\n",
        "    print(i,':',val)\n",
        "createdic(10)"
      ],
      "metadata": {
        "colab": {
          "base_uri": "https://localhost:8080/"
        },
        "id": "LOWN0ZyzrOIb",
        "outputId": "fded03f2-d84d-4ddc-8b3e-7418d773a760"
      },
      "execution_count": null,
      "outputs": [
        {
          "output_type": "stream",
          "name": "stdout",
          "text": [
            "1 : 1\n",
            "2 : 4\n",
            "3 : 9\n",
            "4 : 16\n",
            "5 : 25\n",
            "6 : 36\n",
            "7 : 49\n",
            "8 : 64\n",
            "9 : 81\n",
            "10 : 100\n"
          ]
        }
      ]
    },
    {
      "cell_type": "code",
      "source": [
        "def prodtuple(t):\n",
        "  prod=1\n",
        "  for i in t:\n",
        "    prod*=i\n",
        "  print(prod)\n",
        "prodtuple((1,2,3,4))"
      ],
      "metadata": {
        "colab": {
          "base_uri": "https://localhost:8080/"
        },
        "id": "w3q0LMWgrw4D",
        "outputId": "d2df0db9-8182-4469-d18b-e751c8eefad4"
      },
      "execution_count": null,
      "outputs": [
        {
          "output_type": "stream",
          "name": "stdout",
          "text": [
            "24\n"
          ]
        }
      ]
    }
  ]
}