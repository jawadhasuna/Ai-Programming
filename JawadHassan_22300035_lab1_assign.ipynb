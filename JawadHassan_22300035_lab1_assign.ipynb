{
 "cells": [
  {
   "cell_type": "code",
   "execution_count": 11,
   "id": "27d89e28-a699-460c-961b-58e2f096cf35",
   "metadata": {},
   "outputs": [],
   "source": [
    "#Jawad Hassan 2230-0035 BS AI  "
   ]
  },
  {
   "cell_type": "code",
   "execution_count": 9,
   "id": "fd92a1f8-6df5-4b02-85dc-3ec9124dd539",
   "metadata": {
    "scrolled": true
   },
   "outputs": [
    {
     "name": "stdout",
     "output_type": "stream",
     "text": [
      "44\n",
      "Bill #12345 for Payment Due on 2023-10-15\n",
      "12345\n",
      "Bill #12345 for Payment D\n"
     ]
    }
   ],
   "source": [
    "#Task 1 – Invoice Formatter\n",
    "#Code:\n",
    "desc=\"Invoice #12345 for Payment Due on 2023-10-15\"\n",
    "print(len(desc))\n",
    "desc=desc.replace('Invoice','Bill')\n",
    "print(desc)\n",
    "print(desc[6:11])\n",
    "print(desc[:25])\n"
   ]
  },
  {
   "cell_type": "code",
   "execution_count": 21,
   "id": "006db41b-fb25-4c73-bb68-0fd1146aa93f",
   "metadata": {},
   "outputs": [
    {
     "name": "stdout",
     "output_type": "stream",
     "text": [
      "39\n",
      "Tasty Chocolate Chip Cookies Recipe\n",
      "Cookies\n",
      "Tasty Chocolate Chip Cookies R\n",
      "Chocolate Chip Cookies\n"
     ]
    }
   ],
   "source": [
    "#Task 2 – Recipe Title Formatter\n",
    "#Code:\n",
    "title= \"Delicious Chocolate Chip Cookies Recipe\"\n",
    "print(len(title))\n",
    "title=title.replace('Delicious','Tasty')\n",
    "print(title)\n",
    "print(title[21:28])\n",
    "print(title[:30])\n",
    "print(title[6:28])"
   ]
  },
  {
   "cell_type": "code",
   "execution_count": 28,
   "id": "c959158c-56f0-452e-88c6-ac24feb3016d",
   "metadata": {},
   "outputs": [
    {
     "name": "stdout",
     "output_type": "stream",
     "text": [
      "['Favorite Song']\n",
      "['Song 1', 'Top Hit', 'Song 2', 'Song 3', 'Song 4']\n",
      "Song 4\n",
      "['Song 1', 'Top Hit', 'Song 2']\n"
     ]
    }
   ],
   "source": [
    "#Task 3 – Playlist Organizer\n",
    "#Code:\n",
    "playlist= ['Song 1', 'Song 2', 'Song 3', 'Song 4']\n",
    "favsongs=[]\n",
    "favsongs.append('Favorite Song')\n",
    "print(favsongs)\n",
    "playlist.insert(1,'Top Hit')\n",
    "print(playlist)\n",
    "print(playlist[-1])\n",
    "playlist=playlist[0:3]\n",
    "print(playlist)"
   ]
  },
  {
   "cell_type": "code",
   "execution_count": 33,
   "id": "ddc58552-67d0-4b39-b564-7d2b24f9a97c",
   "metadata": {},
   "outputs": [
    {
     "name": "stdin",
     "output_type": "stream",
     "text": [
      "enter first name: Jawad\n",
      "enter last name: Hassan\n",
      "enter age: 23\n"
     ]
    },
    {
     "name": "stdout",
     "output_type": "stream",
     "text": [
      "full name length 11\n",
      "age: XX\n",
      "initials: JH\n",
      "participant ID Jaan2023\n"
     ]
    }
   ],
   "source": [
    "#Task 4 – Event Registration Manager\n",
    "#Code:\n",
    "#part1 Participant Information\n",
    "first=input(\"enter first name:\")\n",
    "last=input(\"enter last name:\")\n",
    "age=input(\"enter age:\")\n",
    "print('full name length',len(first+last))\n",
    "age=age.replace(age,'XX')\n",
    "print('age:',age)\n",
    "initials=first[0]+last[0]\n",
    "print('initials:',initials)\n",
    "participantID=first[0:2]+last[-2:]+'2023'\n",
    "print('participant ID',participantID)"
   ]
  },
  {
   "cell_type": "code",
   "execution_count": 42,
   "id": "397a0682-2ab7-4610-9387-b5af5b78d5b4",
   "metadata": {},
   "outputs": [
    {
     "name": "stdout",
     "output_type": "stream",
     "text": [
      "['concert', 'tennis', 'ai conference']\n",
      "['concert', 'earth day', 'tennis', 'ai conference']\n",
      "ai conference\n",
      "['concert', 'earth day']\n"
     ]
    }
   ],
   "source": [
    "#part2 Event Preferences \n",
    "#code:\n",
    "event=[]\n",
    "event.append('concert')\n",
    "event.append('tennis')\n",
    "event.append('ai conference')\n",
    "print(event)\n",
    "event.insert(1,'earth day')\n",
    "print(event)\n",
    "print(event[-1])\n",
    "event=event[0:2]\n",
    "print(event)"
   ]
  }
 ],
 "metadata": {
  "kernelspec": {
   "display_name": "Python 3 (ipykernel)",
   "language": "python",
   "name": "python3"
  },
  "language_info": {
   "codemirror_mode": {
    "name": "ipython",
    "version": 3
   },
   "file_extension": ".py",
   "mimetype": "text/x-python",
   "name": "python",
   "nbconvert_exporter": "python",
   "pygments_lexer": "ipython3",
   "version": "3.13.7"
  }
 },
 "nbformat": 4,
 "nbformat_minor": 5
}
