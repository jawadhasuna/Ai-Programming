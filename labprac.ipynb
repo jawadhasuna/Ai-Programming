{
  "nbformat": 4,
  "nbformat_minor": 0,
  "metadata": {
    "colab": {
      "provenance": []
    },
    "kernelspec": {
      "name": "python3",
      "display_name": "Python 3"
    },
    "language_info": {
      "name": "python"
    }
  },
  "cells": [
    {
      "cell_type": "code",
      "execution_count": null,
      "metadata": {
        "id": "Ew6VHsie_vpM",
        "colab": {
          "base_uri": "https://localhost:8080/"
        },
        "outputId": "ce7341c7-8197-4011-a81d-4bcfc1df1be5"
      },
      "outputs": [
        {
          "output_type": "stream",
          "name": "stdout",
          "text": [
            "11\n"
          ]
        }
      ],
      "source": [
        "result= 10+3 * 2 ** 2 // 4 -6 %4\n",
        "print (result)"
      ]
    },
    {
      "cell_type": "code",
      "source": [
        "text='python'\n",
        "print(text[1:4][1])"
      ],
      "metadata": {
        "colab": {
          "base_uri": "https://localhost:8080/"
        },
        "id": "bUPg8ONlY3kX",
        "outputId": "25efbb5f-598f-43a9-b1ea-86b74a5aa528"
      },
      "execution_count": null,
      "outputs": [
        {
          "output_type": "stream",
          "name": "stdout",
          "text": [
            "t\n"
          ]
        }
      ]
    },
    {
      "cell_type": "code",
      "source": [
        "name=input(\"enter name:\")\n",
        "print('name:',name)"
      ],
      "metadata": {
        "colab": {
          "base_uri": "https://localhost:8080/"
        },
        "id": "XCZ2GvTtbLPQ",
        "outputId": "0b401e34-9cac-4919-944d-ee7730f9dffe"
      },
      "execution_count": null,
      "outputs": [
        {
          "output_type": "stream",
          "name": "stdout",
          "text": [
            "enter name:ali\n",
            "name: ali\n"
          ]
        }
      ]
    },
    {
      "cell_type": "code",
      "source": [
        "num1=input('enter num 1:')\n",
        "num2=input('enter num 2:')\n",
        "sum=int(num1)+int(num2)\n",
        "print(sum)"
      ],
      "metadata": {
        "colab": {
          "base_uri": "https://localhost:8080/"
        },
        "id": "rNz0fDOWbMiN",
        "outputId": "68407804-f3af-44df-ba03-0d0155abe4ee"
      },
      "execution_count": null,
      "outputs": [
        {
          "output_type": "stream",
          "name": "stdout",
          "text": [
            "enter num 1:13\n",
            "enter num 2:1\n",
            "14\n"
          ]
        }
      ]
    },
    {
      "cell_type": "code",
      "source": [
        "price=float(input('price:'))\n",
        "quant=int(input('quant:'))\n",
        "total=price*quant\n",
        "print('total:',total)"
      ],
      "metadata": {
        "colab": {
          "base_uri": "https://localhost:8080/"
        },
        "id": "zlWpE8enbVH_",
        "outputId": "f1484513-8087-40c3-fc89-7ee4567b82a7"
      },
      "execution_count": null,
      "outputs": [
        {
          "output_type": "stream",
          "name": "stdout",
          "text": [
            "price:3.5\n",
            "quant:2\n",
            "total: 7.0\n"
          ]
        }
      ]
    },
    {
      "cell_type": "code",
      "source": [
        "a,b,c=input('enter three elements:').split()\n",
        "print(a,b,c)"
      ],
      "metadata": {
        "colab": {
          "base_uri": "https://localhost:8080/"
        },
        "id": "ODluStm6bV8o",
        "outputId": "12cdb6b2-dd34-4945-dd91-2ff7e6e09148"
      },
      "execution_count": null,
      "outputs": [
        {
          "output_type": "stream",
          "name": "stdout",
          "text": [
            "enter three elements:22 34.2 1\n",
            "22 34.2 1\n"
          ]
        }
      ]
    },
    {
      "cell_type": "code",
      "source": [
        "num1='50'\n",
        "num1=int(num1)\n",
        "print(num1,type(num1))\n",
        "\n",
        "mun2='33.2'\n",
        "mun2=float(mun2)\n",
        "print(mun2,type(mun2))\n",
        "\n",
        "numfloat=33.2\n",
        "numfloat=int(numfloat)\n",
        "print(numfloat,type(numfloat))\n",
        "\n",
        "age=20\n",
        "age=str(age)\n",
        "print(age,type(age))"
      ],
      "metadata": {
        "colab": {
          "base_uri": "https://localhost:8080/"
        },
        "id": "uhqJUZhFdkRv",
        "outputId": "ee80a4af-0845-4a81-908d-c24f520d0434"
      },
      "execution_count": null,
      "outputs": [
        {
          "output_type": "stream",
          "name": "stdout",
          "text": [
            "50 <class 'int'>\n",
            "33.2 <class 'float'>\n",
            "33 <class 'int'>\n",
            "20 <class 'str'>\n"
          ]
        }
      ]
    },
    {
      "cell_type": "code",
      "source": [
        "#upcast\n",
        "a=10\n",
        "a=float(a)\n",
        "print(a,type(a))\n",
        "#downcast\n",
        "fa=30.99\n",
        "fa=int(fa)\n",
        "print(fa,type(fa))\n"
      ],
      "metadata": {
        "colab": {
          "base_uri": "https://localhost:8080/"
        },
        "id": "0gz1Rf78imhh",
        "outputId": "ffa6f9cb-fc9e-43eb-992d-218afec61b08"
      },
      "execution_count": null,
      "outputs": [
        {
          "output_type": "stream",
          "name": "stdout",
          "text": [
            "10.0 <class 'float'>\n",
            "30 <class 'int'>\n"
          ]
        }
      ]
    },
    {
      "cell_type": "code",
      "source": [
        "ans=5+3*2**2//4%3\n",
        "print(ans)"
      ],
      "metadata": {
        "colab": {
          "base_uri": "https://localhost:8080/"
        },
        "id": "PD-Zo5ibinrE",
        "outputId": "c087f5b3-2752-419f-8aea-0b11b8149b83"
      },
      "execution_count": null,
      "outputs": [
        {
          "output_type": "stream",
          "name": "stdout",
          "text": [
            "5\n"
          ]
        }
      ]
    },
    {
      "cell_type": "code",
      "source": [
        "dictiona={\n",
        "    'a':1,\n",
        "    'b':2,\n",
        "    'c':3,\n",
        "    'd':4\n",
        "}\n",
        "for ii in range(len(dictiona)):\n",
        "  print(ii)"
      ],
      "metadata": {
        "id": "HJ_36qUIioBc",
        "colab": {
          "base_uri": "https://localhost:8080/"
        },
        "outputId": "30418b11-b181-4c83-c2ef-aa2515f2555c"
      },
      "execution_count": 1,
      "outputs": [
        {
          "output_type": "stream",
          "name": "stdout",
          "text": [
            "0\n",
            "1\n",
            "2\n",
            "3\n"
          ]
        }
      ]
    },
    {
      "cell_type": "code",
      "source": [
        "s1='helo'\n",
        "s22= \"helo\"\n",
        "s3='''boy\n",
        "helo'''\n",
        "s4=\"\"\"heyy\n",
        "world\"\"\"\n",
        "print(s1,s22,s3,s4)"
      ],
      "metadata": {
        "colab": {
          "base_uri": "https://localhost:8080/"
        },
        "id": "uUD0NiDmSDS8",
        "outputId": "b65cd625-7fb7-4f70-efe3-d4db41b22ad3"
      },
      "execution_count": 2,
      "outputs": [
        {
          "output_type": "stream",
          "name": "stdout",
          "text": [
            "helo helo boy\n",
            "helo heyy\n",
            "world\n"
          ]
        }
      ]
    },
    {
      "cell_type": "code",
      "source": [
        "s1=\"it's raining\"\n",
        "s2='she said \"hello\"'\n",
        "s3='''this is\n",
        "a multiline string\n",
        "'''\n",
        "s4= '''it's \"platonic\"'''\n",
        "print(s1,s2,s3,s4)"
      ],
      "metadata": {
        "colab": {
          "base_uri": "https://localhost:8080/"
        },
        "id": "wHfbUqHFSDpP",
        "outputId": "b419e5f2-4156-41e9-e280-44f3cabbff06"
      },
      "execution_count": 1,
      "outputs": [
        {
          "output_type": "stream",
          "name": "stdout",
          "text": [
            "it's raining she said \"hello\" this is\n",
            "a multiline string\n",
            " it's \"platonic\"\n"
          ]
        }
      ]
    },
    {
      "cell_type": "code",
      "source": [
        "a=\"python\"\n",
        "b=\"rocks\"\n",
        "print(\" \".join(a+b))\n",
        "print(a,b,sep=\" \")\n",
        "print(a+\" \"+b)\n",
        "c=a*3\n",
        "print(c)\n",
        "print('oython' in a)\n",
        "print('python' in a)\n",
        "print('jave' not in a)"
      ],
      "metadata": {
        "colab": {
          "base_uri": "https://localhost:8080/"
        },
        "id": "vYwuAw94SD71",
        "outputId": "aac93374-05ce-4f91-9ebf-4733b68a2f80"
      },
      "execution_count": 19,
      "outputs": [
        {
          "output_type": "stream",
          "name": "stdout",
          "text": [
            "p y t h o n r o c k s\n",
            "python rocks\n",
            "python rocks\n",
            "pythonpythonpython\n",
            "False\n",
            "True\n",
            "True\n"
          ]
        }
      ]
    },
    {
      "cell_type": "code",
      "source": [
        "text=\"PYTHON\"\n",
        "print(\"First char:\",text[0])\n",
        "print(\"last char:\",text[-1])\n",
        "print(\"last char:\",text[5])\n",
        "print(\"slice[1:4] char:\",text[1:4])\n",
        "#negative indexing\n",
        "print(\"Slice [-4:-1]:\",text[-4:-1])\n",
        "print(\"Step 2:\", text[::2])\n",
        "print(\"Reverse:\",  text[::-1])\n",
        "print(\"Every 2nd char from end:\", text[::-2])\n",
        "\n"
      ],
      "metadata": {
        "colab": {
          "base_uri": "https://localhost:8080/"
        },
        "id": "lZ58m7L7SEMY",
        "outputId": "5eaca22c-10c5-498b-c826-c694a4ecc74a"
      },
      "execution_count": 26,
      "outputs": [
        {
          "output_type": "stream",
          "name": "stdout",
          "text": [
            "First char: P\n",
            "last char: N\n",
            "last char: N\n",
            "slice[1:4] char: YTH\n",
            "Slice [-4:-1]: THO\n",
            "Step 2: PTO\n",
            "Reverse: NOHTYP\n",
            "Every 2nd char from end: NHY\n"
          ]
        }
      ]
    },
    {
      "cell_type": "code",
      "source": [
        "s = \"2  -    --2---  python Programming --- 2 --  -  2\"\n",
        "print(s.lower())\n",
        "print(s.upper())\n",
        "print(s.capitalize())\n",
        "print(s.title())\n",
        "\n",
        "print(s.strip())\n",
        "print(s.rstrip())\n",
        "print(s.lstrip())\n",
        "print(s.strip(\"2\"))"
      ],
      "metadata": {
        "colab": {
          "base_uri": "https://localhost:8080/"
        },
        "id": "wAyM9Z4zSEdr",
        "outputId": "f4e0d8a4-8549-4eb7-8842-ef9d5559c011"
      },
      "execution_count": 52,
      "outputs": [
        {
          "output_type": "stream",
          "name": "stdout",
          "text": [
            "2  -    --2---  python programming --- 2 --  -  2\n",
            "2  -    --2---  PYTHON PROGRAMMING --- 2 --  -  2\n",
            "2  -    --2---  python programming --- 2 --  -  2\n",
            "2  -    --2---  Python Programming --- 2 --  -  2\n",
            "2  -    --2---  python Programming --- 2 --  -  2\n",
            "2  -    --2---  python Programming --- 2 --  -  2\n",
            "2  -    --2---  python Programming --- 2 --  -  2\n",
            "  -    --2---  python Programming --- 2 --  -  \n"
          ]
        }
      ]
    },
    {
      "cell_type": "code",
      "source": [
        "s = \"abcpython Programming\"\n",
        "print(s.find('thon'))\n",
        "print(s.rfind(\"m\"))\n",
        "print(s.startswith(\" \"))\n",
        "print(s.strip().startswith('p'))\n",
        "print(s.split(\"m\"))\n",
        "print(s.replace(\"python\",\"java\"))\n",
        "print(s.split())\n",
        "print(\"-\".join([\"22\",\"3\",\"2025\"]))"
      ],
      "metadata": {
        "colab": {
          "base_uri": "https://localhost:8080/"
        },
        "id": "o3oJwSdpSEuu",
        "outputId": "c1fd9f72-e4d6-497a-b422-72e48df3965d"
      },
      "execution_count": 173,
      "outputs": [
        {
          "output_type": "stream",
          "name": "stdout",
          "text": [
            "5\n",
            "17\n",
            "False\n",
            "False\n",
            "['abcpython Progra', '', 'ing']\n",
            "abcjava Programming\n",
            "['abcpython', 'Programming']\n",
            "22-3-2025\n"
          ]
        }
      ]
    },
    {
      "cell_type": "code",
      "source": [
        "print(\"abc\".isalpha())\n",
        "print(\"123\".isdigit())\n",
        "print(\"abwe23c\".isalnum())\n",
        "print(\"abc\".islower())\n",
        "print(\"ADD\".isupper())\n",
        "print(\"      \".isspace())\n",
        "print(len(s))\n",
        "print(s[2])\n",
        "#s[2]='w'\n",
        "j='dog'\n",
        "#s[2]=j[0]\n",
        "well=j +s[2]\n",
        "print(well)\n",
        "well=\"j\"+j[1:]\n",
        "print(well)\n",
        "print(id(well))\n",
        "well=well+\" world\"\n",
        "print(id(well))"
      ],
      "metadata": {
        "colab": {
          "base_uri": "https://localhost:8080/"
        },
        "id": "DjVUsM0uSFBZ",
        "outputId": "533c4ae3-e35e-44a0-c2c2-c02dd4f98ac3"
      },
      "execution_count": 100,
      "outputs": [
        {
          "output_type": "stream",
          "name": "stdout",
          "text": [
            "True\n",
            "True\n",
            "True\n",
            "True\n",
            "True\n",
            "True\n",
            "20\n",
            "p\n",
            "dogp\n",
            "jog\n",
            "134185173203872\n",
            "134185172317936\n"
          ]
        }
      ]
    },
    {
      "cell_type": "code",
      "source": [
        "listy=[1,3,4,well,'well']\n",
        "print(listy)\n",
        "print(listy[1])\n",
        "print(listy[1:4])"
      ],
      "metadata": {
        "colab": {
          "base_uri": "https://localhost:8080/"
        },
        "id": "seyB7h1PSFS6",
        "outputId": "c22111b8-0170-4a84-de92-3e869aa2f204"
      },
      "execution_count": 103,
      "outputs": [
        {
          "output_type": "stream",
          "name": "stdout",
          "text": [
            "[1, 3, 4, 'jog world', 'well']\n",
            "3\n",
            "[3, 4, 'jog world']\n"
          ]
        }
      ]
    },
    {
      "cell_type": "code",
      "source": [
        "a=[1,2,3]\n",
        "b=[4,5,6]\n",
        "c=a+b\n",
        "print(c)\n",
        "print(b*2)\n",
        "print(2 in a)\n",
        "print(7 not in a)\n",
        "\n",
        "nums=[10,20,30,40,50,60]\n",
        "print(nums[0])\n",
        "print(nums[2:5])\n",
        "print(nums[:3])\n",
        "print(nums[3:])\n",
        "print(nums[-1])\n",
        "print(nums[-3:-1])\n",
        "\n",
        "print(nums[::2])\n",
        "print(nums[1:5:2])\n",
        "print(nums[::-1])\n",
        "print(nums[-1:-6:-2])"
      ],
      "metadata": {
        "colab": {
          "base_uri": "https://localhost:8080/"
        },
        "id": "R0OMrGCISGIJ",
        "outputId": "4a6dfbf3-3b17-476e-e4e8-be5e9a34ff19"
      },
      "execution_count": 121,
      "outputs": [
        {
          "output_type": "stream",
          "name": "stdout",
          "text": [
            "[1, 2, 3, 4, 5, 6]\n",
            "[4, 5, 6, 4, 5, 6]\n",
            "True\n",
            "True\n",
            "10\n",
            "[30, 40, 50]\n",
            "[10, 20, 30]\n",
            "[40, 50, 60]\n",
            "60\n",
            "[40, 50]\n",
            "[10, 30, 50]\n",
            "[20, 40]\n",
            "[60, 50, 40, 30, 20, 10]\n",
            "[60, 40, 20]\n"
          ]
        }
      ]
    },
    {
      "cell_type": "code",
      "source": [
        "str=\"abcde\"\n",
        "print(str[-1])\n",
        "print(str[-2])\n",
        "liste=[1,2,3,3,3,3,3,4,5]\n",
        "print(liste[-1])\n",
        "print(liste[-2])\n",
        "lis2=liste.copy()\n",
        "lis2[2]=99\n",
        "liste.append(22)\n",
        "liste.extend([1,2,3])\n",
        "print(liste.count(3))\n",
        "liste.insert(1,2)\n",
        "print(liste.index(3))\n",
        "print(liste)\n",
        "print(liste.pop())\n",
        "liste.remove(22)\n",
        "liste.clear()\n",
        "liste=[1,2,3,4,5]\n",
        "print(liste)\n",
        "liste.reverse()\n",
        "liste.append(22)\n",
        "liste.append(0)\n",
        "liste.append(2)\n",
        "liste.sort()\n",
        "print(liste)\n",
        "liste.sort(reverse=True)\n",
        "print(liste)\n",
        "liste=['a','bnanannananaanan','sshs']\n",
        "liste.sort(key=len)\n",
        "print(liste)\n",
        "liste=[1,2,3,3,3,3,3,4,0,5]\n",
        "print(min(liste))\n",
        "print(max(liste))\n"
      ],
      "metadata": {
        "colab": {
          "base_uri": "https://localhost:8080/"
        },
        "id": "zOFxzqfuSH7T",
        "outputId": "33329ebd-78ad-416c-eda5-1490cb6279ad"
      },
      "execution_count": 163,
      "outputs": [
        {
          "output_type": "stream",
          "name": "stdout",
          "text": [
            "e\n",
            "d\n",
            "5\n",
            "4\n",
            "6\n",
            "3\n",
            "[1, 2, 2, 3, 3, 3, 3, 3, 4, 5, 22, 1, 2, 3]\n",
            "3\n",
            "[1, 2, 3, 4, 5]\n",
            "[0, 1, 2, 2, 3, 4, 5, 22]\n",
            "[22, 5, 4, 3, 2, 2, 1, 0]\n",
            "['a', 'sshs', 'bnanannananaanan']\n",
            "0\n",
            "5\n"
          ]
        }
      ]
    },
    {
      "cell_type": "code",
      "source": [
        "fruits = [\"apple\", \"dates\", \"cherry\"]\n",
        "fruits.append('kiwi')\n",
        "print(fruits)\n",
        "fruits.insert(1,'orange')\n",
        "print(fruits)\n",
        "fruits.extend(['fruits','seb'])\n",
        "print(fruits)\n",
        "fruits.remove('fruits')\n",
        "print(fruits)\n",
        "last=fruits.pop()\n",
        "print(last)\n",
        "del fruits[1]\n",
        "print(fruits)\n",
        "fruits.clear()\n",
        "print(fruits)"
      ],
      "metadata": {
        "colab": {
          "base_uri": "https://localhost:8080/"
        },
        "id": "dpCC5o7gSIQU",
        "outputId": "ad873771-fe3e-47ee-ef30-7ac0175d31b8"
      },
      "execution_count": 171,
      "outputs": [
        {
          "output_type": "stream",
          "name": "stdout",
          "text": [
            "['apple', 'dates', 'cherry', 'kiwi']\n",
            "['apple', 'orange', 'dates', 'cherry', 'kiwi']\n",
            "['apple', 'orange', 'dates', 'cherry', 'kiwi', 'fruits', 'seb']\n",
            "['apple', 'orange', 'dates', 'cherry', 'kiwi', 'seb']\n",
            "seb\n",
            "['apple', 'dates', 'cherry', 'kiwi']\n",
            "[]\n"
          ]
        }
      ]
    },
    {
      "cell_type": "code",
      "source": [
        "nums = [10, 20, 20,30, 40, 10]\n",
        "print(nums.index(20))\n",
        "print(nums.count(20))\n",
        "nums.sort()\n",
        "print(nums)\n",
        "nums.sort(reverse=True)\n",
        "print(nums)\n",
        "mumn2=nums.copy()\n",
        "print(mumn2)\n",
        "print(range(len(nums)))\n",
        "nums=tuple(range(len(nums)))\n",
        "print(nums)\n",
        "print(len(nums))\n",
        "print(min(nums))\n",
        "print(max(nums))\n",
        "print(sum(nums))"
      ],
      "metadata": {
        "colab": {
          "base_uri": "https://localhost:8080/"
        },
        "id": "6o4CCAUvecI8",
        "outputId": "9ff43179-0efb-4e04-dd6b-e0aa1b8811bf"
      },
      "execution_count": 203,
      "outputs": [
        {
          "output_type": "stream",
          "name": "stdout",
          "text": [
            "1\n",
            "2\n",
            "[10, 10, 20, 20, 30, 40]\n",
            "[40, 30, 20, 20, 10, 10]\n",
            "[40, 30, 20, 20, 10, 10]\n",
            "range(0, 6)\n",
            "(0, 1, 2, 3, 4, 5)\n",
            "6\n",
            "0\n",
            "5\n",
            "15\n"
          ]
        }
      ]
    },
    {
      "cell_type": "code",
      "source": [
        "d2=[\n",
        "    [1,2,3],\n",
        "    [4,5,6],\n",
        "    [7,8,9]\n",
        "]\n",
        "print(d2)\n",
        "for row in d2:\n",
        " print(row)\n",
        "print(d2[0][0])\n",
        "print(d2[1][2])\n",
        "print(d2[2][1])\n",
        "d2[0][1]=99\n",
        "print(d2)\n",
        "\n",
        "d3=[\n",
        "    [[1,2,3],[4,5,6]],\n",
        "    [[7,8,9],[10,11,12]]\n",
        "]\n",
        "print(d3)\n",
        "for r in d3:\n",
        "  print(r)\n",
        "print(d3[1][1][1])"
      ],
      "metadata": {
        "colab": {
          "base_uri": "https://localhost:8080/"
        },
        "id": "toLXuNaDSIif",
        "outputId": "35d67cd3-252f-4b7b-e492-78ba1e0ac018"
      },
      "execution_count": 218,
      "outputs": [
        {
          "output_type": "stream",
          "name": "stdout",
          "text": [
            "[[1, 2, 3], [4, 5, 6], [7, 8, 9]]\n",
            "[1, 2, 3]\n",
            "[4, 5, 6]\n",
            "[7, 8, 9]\n",
            "1\n",
            "6\n",
            "8\n",
            "[[1, 99, 3], [4, 5, 6], [7, 8, 9]]\n",
            "[[[1, 2, 3], [4, 5, 6]], [[7, 8, 9], [10, 11, 12]]]\n",
            "[[1, 2, 3], [4, 5, 6]]\n",
            "[[7, 8, 9], [10, 11, 12]]\n",
            "11\n"
          ]
        }
      ]
    },
    {
      "cell_type": "code",
      "source": [
        "tu=tuple(range(1,6))\n",
        "print(tu)\n",
        "tu1=('ali','zain','aslam')\n",
        "print(tu)\n",
        "tu2=()\n",
        "print(tu)\n",
        "tu3=(3,)\n",
        "print(tu)\n",
        "tu4=(2,3,4)\n",
        "print(tu,tu1,tu2,tu3,tu4)\n",
        "tu=tu+tu1\n",
        "print(tu)\n",
        "tu=tu*2\n",
        "print(tu)\n",
        "print(3 in tu)\n",
        "print(100 not in tu)"
      ],
      "metadata": {
        "colab": {
          "base_uri": "https://localhost:8080/"
        },
        "id": "GpzS9vqASIzz",
        "outputId": "f9a00677-63d1-4ba3-fcb9-5955c6ce4df9"
      },
      "execution_count": 232,
      "outputs": [
        {
          "output_type": "stream",
          "name": "stdout",
          "text": [
            "(1, 2, 3, 4, 5)\n",
            "(1, 2, 3, 4, 5)\n",
            "(1, 2, 3, 4, 5)\n",
            "(1, 2, 3, 4, 5)\n",
            "(1, 2, 3, 4, 5) ('ali', 'zain', 'aslam') () (3,) (2, 3, 4)\n",
            "(1, 2, 3, 4, 5, 'ali', 'zain', 'aslam')\n",
            "(1, 2, 3, 4, 5, 'ali', 'zain', 'aslam', 1, 2, 3, 4, 5, 'ali', 'zain', 'aslam')\n",
            "True\n",
            "True\n"
          ]
        }
      ]
    },
    {
      "cell_type": "code",
      "source": [
        "t = (10, 20, 30, 40, 50, 60)\n",
        "print(t[0:3])\n",
        "print(t[2:5])\n",
        "print(t[-3:])\n",
        "print(t[:-2])\n",
        "print(t[0::2])\n",
        "print(t[1::2])\n",
        "print(t[::-1])\n",
        "print(t[-2:-6:-2])"
      ],
      "metadata": {
        "colab": {
          "base_uri": "https://localhost:8080/"
        },
        "id": "U4IjnIYsSJEj",
        "outputId": "f32aa8ae-74ee-4391-d1bd-5a205847f36c"
      },
      "execution_count": 243,
      "outputs": [
        {
          "output_type": "stream",
          "name": "stdout",
          "text": [
            "(10, 20, 30)\n",
            "(30, 40, 50)\n",
            "(40, 50, 60)\n",
            "(10, 20, 30, 40)\n",
            "(10, 30, 50)\n",
            "(20, 40, 60)\n",
            "(60, 50, 40, 30, 20, 10)\n",
            "(50, 30)\n"
          ]
        }
      ]
    },
    {
      "cell_type": "code",
      "source": [
        "t = (4, 2, 8, 2, 5, 2)\n",
        "print(len(t))\n",
        "print(t.count(2))\n",
        "print(t.index(2))\n",
        "print(min(t))\n",
        "print(max(t))\n",
        "print(sum(t))\n",
        "print(sorted(t))\n",
        "print(t)"
      ],
      "metadata": {
        "colab": {
          "base_uri": "https://localhost:8080/"
        },
        "id": "G_nn3-NqSJUr",
        "outputId": "eb6209c2-2d9e-49ec-de1e-d8aee521c148"
      },
      "execution_count": 254,
      "outputs": [
        {
          "output_type": "stream",
          "name": "stdout",
          "text": [
            "6\n",
            "3\n",
            "1\n",
            "2\n",
            "8\n",
            "23\n",
            "[2, 2, 2, 4, 5, 8]\n",
            "(4, 2, 8, 2, 5, 2)\n"
          ]
        }
      ]
    },
    {
      "cell_type": "code",
      "source": [
        "nested=((1,2),(3,4),(5,6))\n",
        "print(nested)\n",
        "print(nested[1])\n",
        "print(nested[1][0])\n",
        "#nested[0][0]=99\n",
        "t=([0,1],2,3)\n",
        "print(t)\n",
        "t[0][0]=99\n",
        "print(t)"
      ],
      "metadata": {
        "colab": {
          "base_uri": "https://localhost:8080/"
        },
        "id": "CYq5fJIGSJkR",
        "outputId": "c36ac587-6b7a-4006-8c30-6d5dcc94c047"
      },
      "execution_count": 261,
      "outputs": [
        {
          "output_type": "stream",
          "name": "stdout",
          "text": [
            "((1, 2), (3, 4), (5, 6))\n",
            "(3, 4)\n",
            "3\n",
            "([0, 1], 2, 3)\n",
            "([99, 1], 2, 3)\n"
          ]
        }
      ]
    },
    {
      "cell_type": "code",
      "source": [
        "dic={\n",
        "    \"name\":\"ali\",\n",
        "    \"age\":13,\n",
        "    \"grade\":'a'\n",
        "}\n",
        "print(dic)\n",
        "print(dic['name'])\n",
        "dic2={\n",
        "    'section':'ai',\n",
        "    \"gpa\":3.445\n",
        "}\n",
        "dic.update(dic2)\n",
        "print(dic)\n",
        "dd={\"realtion\":'brother','sports':'football'} | {\"name\":'zain','age':13}\n",
        "print(dd)\n",
        "print('sports' in dd)\n",
        "print('football' not in dd)"
      ],
      "metadata": {
        "colab": {
          "base_uri": "https://localhost:8080/"
        },
        "id": "yl--Rph2SJyj",
        "outputId": "f85d7b3b-7cf2-48e3-cff9-acec8bb598a9"
      },
      "execution_count": 269,
      "outputs": [
        {
          "output_type": "stream",
          "name": "stdout",
          "text": [
            "{'name': 'ali', 'age': 13, 'grade': 'a'}\n",
            "ali\n",
            "{'name': 'ali', 'age': 13, 'grade': 'a', 'section': 'ai', 'gpa': 3.445}\n",
            "{'realtion': 'brother', 'sports': 'football', 'name': 'zain', 'age': 13}\n",
            "True\n",
            "True\n"
          ]
        }
      ]
    },
    {
      "cell_type": "code",
      "source": [
        "d = {\"a\": 10, \"b\": 20, \"c\": 30}\n",
        "print(len(d))\n",
        "print(d['a'])\n",
        "print(d.get('a'))\n",
        "print(d.get('aa','not found'))\n",
        "d.update({'l':33})\n",
        "d['strong']=50\n",
        "d['a']=40\n",
        "print(d)\n",
        "del d['a']\n",
        "print(d)\n",
        "d.pop('l')\n",
        "print(d)\n",
        "print(d.popitem())\n",
        "print(d.keys())\n",
        "print(d.values())\n",
        "print(d.items())\n",
        "d.clear()\n",
        "print(d)"
      ],
      "metadata": {
        "colab": {
          "base_uri": "https://localhost:8080/"
        },
        "id": "9tj17OERHGSn",
        "outputId": "9528e3a8-cfcf-4684-da84-5624146851f5"
      },
      "execution_count": 288,
      "outputs": [
        {
          "output_type": "stream",
          "name": "stdout",
          "text": [
            "3\n",
            "10\n",
            "10\n",
            "not found\n",
            "{'a': 40, 'b': 20, 'c': 30, 'l': 33, 'strong': 50}\n",
            "{'b': 20, 'c': 30, 'l': 33, 'strong': 50}\n",
            "{'b': 20, 'c': 30, 'strong': 50}\n",
            "('strong', 50)\n",
            "dict_keys(['b', 'c'])\n",
            "dict_values([20, 30])\n",
            "dict_items([('b', 20), ('c', 30)])\n",
            "{}\n"
          ]
        }
      ]
    },
    {
      "cell_type": "code",
      "source": [
        "dnest={\n",
        "    'p1':{\n",
        "        'name':{'n1':'ali','n2':'subhan','n3':'hamza'},\n",
        "        'age':13\n",
        "    },\n",
        "    'p2':{\n",
        "        'name':'zain',\n",
        "        'height':8.1\n",
        "    }\n",
        "}\n",
        "print(dnest)\n",
        "print(dnest.keys())\n",
        "print(dnest.values())\n",
        "print(dnest.items())\n",
        "print(dnest['p1']['name']['n3'])\n",
        "print(dnest.popitem())"
      ],
      "metadata": {
        "colab": {
          "base_uri": "https://localhost:8080/"
        },
        "id": "8iPbr4tRHGp-",
        "outputId": "c6135034-f339-40e2-c1a6-b50e6309e37a"
      },
      "execution_count": 299,
      "outputs": [
        {
          "output_type": "stream",
          "name": "stdout",
          "text": [
            "{'p1': {'name': {'n1': 'ali', 'n2': 'subhan', 'n3': 'hamza'}, 'age': 13}, 'p2': {'name': 'zain', 'height': 8.1}}\n",
            "dict_keys(['p1', 'p2'])\n",
            "dict_values([{'name': {'n1': 'ali', 'n2': 'subhan', 'n3': 'hamza'}, 'age': 13}, {'name': 'zain', 'height': 8.1}])\n",
            "dict_items([('p1', {'name': {'n1': 'ali', 'n2': 'subhan', 'n3': 'hamza'}, 'age': 13}), ('p2', {'name': 'zain', 'height': 8.1})])\n",
            "hamza\n",
            "('p2', {'name': 'zain', 'height': 8.1})\n"
          ]
        }
      ]
    }
  ]
}