{
 "cells": [
  {
   "cell_type": "code",
   "execution_count": 2,
   "id": "8bed8301-e8aa-419a-854b-070d1de3badd",
   "metadata": {},
   "outputs": [
    {
     "name": "stdout",
     "output_type": "stream",
     "text": [
      "this is my data 234 True 68.78\n"
     ]
    }
   ],
   "source": [
    "data=\"this is my data\"\n",
    "id_no=234\n",
    "present=True\n",
    "perc=68.78\n",
    "print(data,id_no,present,perc)"
   ]
  },
  {
   "cell_type": "code",
   "execution_count": 4,
   "id": "21cfc149-a854-499b-b649-888883d30270",
   "metadata": {},
   "outputs": [
    {
     "name": "stdout",
     "output_type": "stream",
     "text": [
      "<class 'str'>\n"
     ]
    }
   ],
   "source": [
    "x=type(data)\n",
    "print(x)"
   ]
  },
  {
   "cell_type": "code",
   "execution_count": 6,
   "id": "40f76b27-61cd-4946-abc6-4a909a6c6865",
   "metadata": {},
   "outputs": [
    {
     "name": "stdout",
     "output_type": "stream",
     "text": [
      "134\n",
      "1\n",
      "8\n"
     ]
    }
   ],
   "source": [
    "a=78\n",
    "b=56\n",
    "c=a+b\n",
    "c2=a//b\n",
    "exp=2**3\n",
    "print(c)\n",
    "print(c2)\n",
    "print(exp)"
   ]
  },
  {
   "cell_type": "code",
   "execution_count": 12,
   "id": "d705eab1-7a72-47f1-acff-b258b348fd50",
   "metadata": {},
   "outputs": [
    {
     "name": "stdout",
     "output_type": "stream",
     "text": [
      "Jawad 5 wa d\n"
     ]
    },
    {
     "data": {
      "text/plain": [
       "'Jawad'"
      ]
     },
     "execution_count": 12,
     "metadata": {},
     "output_type": "execute_result"
    }
   ],
   "source": [
    "name='jawad'\n",
    "name=name.replace('j','J')\n",
    "#slicing\n",
    "print(name,len(name),name[2:4],name[4])\n",
    "name\n"
   ]
  },
  {
   "cell_type": "code",
   "execution_count": 19,
   "id": "dd727679-1095-4761-96ee-6edfbce0f461",
   "metadata": {},
   "outputs": [
    {
     "name": "stdout",
     "output_type": "stream",
     "text": [
      "[1, 2, 3, 4, 5, 6, 7, 8, 9]\n"
     ]
    },
    {
     "data": {
      "text/plain": [
       "[23, 'hey', 'data']"
      ]
     },
     "execution_count": 19,
     "metadata": {},
     "output_type": "execute_result"
    }
   ],
   "source": [
    "numbers=list(range(1,10))\n",
    "print (numbers)\n",
    "lst=[]\n",
    "lst=[23,'data',True,22.1]\n",
    "lst.insert(1,\"hey\")\n",
    "lst.append(5)\n",
    "lst[:3]"
   ]
  },
  {
   "cell_type": "code",
   "execution_count": 21,
   "id": "f650e4b1-f3fa-4b49-ae8b-02d9efc46a94",
   "metadata": {},
   "outputs": [
    {
     "name": "stdout",
     "output_type": "stream",
     "text": [
      "[1, 'chips', [5000, 4000, 3000], 35, 15000]\n"
     ]
    }
   ],
   "source": [
    "product_id = 1\n",
    "product_name = 'chips'\n",
    "unit_price = [5000, 4000, 3000]\n",
    "quantity_sold = 35\n",
    "total_revenue = 15000\n",
    "sales=[product_id ,product_name,unit_price,quantity_sold,total_revenue]\n",
    "print(sales)"
   ]
  },
  {
   "cell_type": "code",
   "execution_count": 22,
   "id": "579d5537-c77d-44f7-ab2f-f45b2d0093ae",
   "metadata": {},
   "outputs": [
    {
     "name": "stdout",
     "output_type": "stream",
     "text": [
      "4000.0\n"
     ]
    }
   ],
   "source": [
    "avg=sum(unit_price)/len(unit_price)\n",
    "print(avg)"
   ]
  },
  {
   "cell_type": "code",
   "execution_count": 23,
   "id": "3cbcfe73-fbb4-463a-a7a0-91da05a426a9",
   "metadata": {},
   "outputs": [
    {
     "name": "stdout",
     "output_type": "stream",
     "text": [
      "1728000000000\n"
     ]
    }
   ],
   "source": [
    "pwr=sum(unit_price)**len(unit_price)\n",
    "print(pwr)"
   ]
  },
  {
   "cell_type": "code",
   "execution_count": 24,
   "id": "fe4aaa12-50af-4d2e-a0c8-885e7bceb6b2",
   "metadata": {},
   "outputs": [
    {
     "name": "stdout",
     "output_type": "stream",
     "text": [
      "4000\n"
     ]
    }
   ],
   "source": [
    "div=sum(unit_price)//len(unit_price)\n",
    "print(div)"
   ]
  },
  {
   "cell_type": "code",
   "execution_count": 32,
   "id": "a98b10aa-0ce3-4c54-af9a-f5e8560caf78",
   "metadata": {},
   "outputs": [
    {
     "name": "stdout",
     "output_type": "stream",
     "text": [
      " Aug 30, 2023\n",
      "Join us for the online session on Aug 30\n",
      " 2:00 PM (GMT)\n"
     ]
    }
   ],
   "source": [
    "msg=\"Join us for the webinar on Aug 30, 2023, 2:00 PM (GMT)\"\n",
    "len(msg)\n",
    "msg=msg.replace('webinar','online session')\n",
    "print(msg[33:46])\n",
    "print(msg[:40])\n",
    "print(msg[47:])"
   ]
  },
  {
   "cell_type": "code",
   "execution_count": 44,
   "id": "159f80e1-35d9-430e-a1ae-40d7599ca5e0",
   "metadata": {},
   "outputs": [
    {
     "name": "stdout",
     "output_type": "stream",
     "text": [
      "Yoga\n"
     ]
    },
    {
     "data": {
      "text/plain": [
       "['plank', 'Push-ups', 'Yoga']"
      ]
     },
     "execution_count": 44,
     "metadata": {},
     "output_type": "execute_result"
    }
   ],
   "source": [
    "exlog=['Running', 'Push-ups', 'Yoga', 'Swimming']\n",
    "cardio=[]\n",
    "cardio.append('cycling')\n",
    "cardio\n",
    "exlog.insert(1,'plank')\n",
    "print(exlog[3])\n",
    "cardio=exlog[0:2]\n",
    "cardio\n",
    "exlog[1:4]"
   ]
  },
  {
   "cell_type": "code",
   "execution_count": 50,
   "id": "d0415dc0-8aba-4425-843f-0bb6395d45d0",
   "metadata": {},
   "outputs": [
    {
     "data": {
      "text/plain": [
       "['Book A', 'bestseller', 'Book B', 'thore']"
      ]
     },
     "execution_count": 50,
     "metadata": {},
     "output_type": "execute_result"
    }
   ],
   "source": [
    "book= ['Book A', 'Book B', 'Book C', 'Book D']\n",
    "recom=[]\n",
    "recom.append('recommend book')\n",
    "recom\n",
    "book.insert(1,'bestseller')\n",
    "book[-1]\n",
    "book=book[0:3]\n",
    "book.append('thore')\n",
    "book"
   ]
  },
  {
   "cell_type": "code",
   "execution_count": 52,
   "id": "36f17f8a-20ae-4332-915d-64127a6ba36d",
   "metadata": {},
   "outputs": [
    {
     "name": "stdin",
     "output_type": "stream",
     "text": [
      "q1 2\n",
      "q2 3\n",
      "r 2\n"
     ]
    },
    {
     "data": {
      "text/plain": [
       "1.0"
      ]
     },
     "execution_count": 52,
     "metadata": {},
     "output_type": "execute_result"
    }
   ],
   "source": [
    "q1=int(input(\"q1\"))\n",
    "q2=int(input(\"q2\"))\n",
    "r=int(input(\"r\"))\n",
    "k=1.2\n",
    "f=(k*q1*q2)//(r**2)\n",
    "f"
   ]
  }
 ],
 "metadata": {
  "kernelspec": {
   "display_name": "Python 3 (ipykernel)",
   "language": "python",
   "name": "python3"
  },
  "language_info": {
   "codemirror_mode": {
    "name": "ipython",
    "version": 3
   },
   "file_extension": ".py",
   "mimetype": "text/x-python",
   "name": "python",
   "nbconvert_exporter": "python",
   "pygments_lexer": "ipython3",
   "version": "3.13.7"
  }
 },
 "nbformat": 4,
 "nbformat_minor": 5
}
